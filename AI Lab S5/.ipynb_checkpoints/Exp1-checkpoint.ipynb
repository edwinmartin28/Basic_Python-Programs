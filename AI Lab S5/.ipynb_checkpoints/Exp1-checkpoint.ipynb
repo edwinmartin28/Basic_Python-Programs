{
 "cells": [
  {
   "cell_type": "code",
   "execution_count": 1,
   "id": "0f2097a6",
   "metadata": {},
   "outputs": [
    {
     "name": "stdout",
     "output_type": "stream",
     "text": [
      "Enter value of a : 1\n",
      "Enter value of b : 3\n",
      "Enter value of c : -10\n",
      "Roots are : (2+0j),(-5+0j)\n"
     ]
    }
   ],
   "source": [
    "#Python program to calculate roots of a quadratic equation. \n",
    "from cmath import sqrt\n",
    "a= int(input(\"Enter value of a : \"))\n",
    "b= int(input(\"Enter value of b : \"))\n",
    "c= int(input(\"Enter value of c : \"))\n",
    "\n",
    "if(a==0):\n",
    "    print(\"Not a Quadratic Equation\")\n",
    "    exit(0) \n",
    "\n",
    "r1=((-b+sqrt(pow(b,2)-4*a*c))/(2*a))\n",
    "r2=((-b-sqrt(pow(b,2)-4*a*c))/(2*a))\n",
    "\n",
    "print(\"Roots are : \"+str(r1)+\",\"+str(r2))"
   ]
  },
  {
   "cell_type": "code",
   "execution_count": 2,
   "id": "698646fe",
   "metadata": {},
   "outputs": [
    {
     "name": "stdout",
     "output_type": "stream",
     "text": [
      "Enter the number :5\n",
      "Enter the elements to list\n",
      "Enter number 1 :4\n",
      "Enter number 2 :2\n",
      "Enter number 3 :3\n",
      "Enter number 4 :5\n",
      "Enter number 5 :1\n",
      "Unsorted list is:  [4, 2, 3, 5, 1]\n",
      "Sorted list is:  [1, 2, 3, 4, 5]\n"
     ]
    }
   ],
   "source": [
    "#Python program to sort N elements using bubble sort.\n",
    "def sort(list):  \n",
    "    for i in range(0,len(list)-1):  \n",
    "        for j in range(len(list)-1):  \n",
    "            if(list[j]>list[j+1]):  \n",
    "                temp = list[j]  \n",
    "                list[j] = list[j+1]  \n",
    "                list[j+1] = temp  \n",
    "    return list  \n",
    "list = []\n",
    "n = int(input(\"Enter the number :\"))\n",
    "print(\"Enter the elements to list\")\n",
    "for i in range(n):\n",
    "    x = int(input(\"Enter number \"+str(i+1)+\" :\"))\n",
    "    list.append(x)\n",
    "print(\"Unsorted list is: \", list)  \n",
    "print(\"Sorted list is: \", sort(list)) "
   ]
  },
  {
   "cell_type": "code",
   "execution_count": 3,
   "id": "1d81edba",
   "metadata": {},
   "outputs": [
    {
     "name": "stdout",
     "output_type": "stream",
     "text": [
      "Enter a number:6\n",
      "The factorial of 6 = 720\n"
     ]
    }
   ],
   "source": [
    "#Python program to find factorial of anumber.\n",
    "def factorial(num):\n",
    "    fact=1\n",
    "    for i in range(1, num+1):\n",
    "        fact=fact*i\n",
    "    return fact     \n",
    "n=int(input(\"Enter a number:\"))\n",
    "result=factorial(n)\n",
    "print(\"The factorial of %d = %d\"%(n,result))\n"
   ]
  },
  {
   "cell_type": "code",
   "execution_count": 4,
   "id": "1c864253",
   "metadata": {},
   "outputs": [
    {
     "name": "stdout",
     "output_type": "stream",
     "text": [
      "Enter a scentence : hey hello hey\n",
      "Frequency of hey is : 2\n",
      "Frequency of hello is : 1\n"
     ]
    }
   ],
   "source": [
    "#Python program to count the occurrences of each word in a given sentence.\n",
    "str=input(\"Enter a scentence : \")\n",
    "str = str.split()        \n",
    "str2 = []\n",
    "\n",
    "for i in str:            \n",
    "    if i not in str2:\n",
    "        str2.append(i)\n",
    "for i in range(len(str2)):\n",
    "        print('Frequency of', str2[i], 'is :', str.count(str2[i]))\n"
   ]
  },
  {
   "cell_type": "code",
   "execution_count": 5,
   "id": "853593b0",
   "metadata": {},
   "outputs": [
    {
     "name": "stdout",
     "output_type": "stream",
     "text": [
      "Enter number of elements: 5\n",
      "1\n",
      "2\n",
      "3\n",
      "4\n",
      "5\n",
      "1 * 2 = 2\n",
      "2 * 3 = 6\n",
      "3 * 4 = 12\n",
      "4 * 5 = 20\n"
     ]
    }
   ],
   "source": [
    "#Python program to multiply adjecent elements in a tuple\n",
    "n=int(input(\"Enter number of elements: \"))\n",
    "l=[]\n",
    "for i in range(0,n):\n",
    "    l.append(int(input()))\n",
    "l=tuple(l)\n",
    "for i in range(len(l)-1):\n",
    "    print(l[i],\"*\",l[i+1],\"=\",l[i]*l[i+1])\n"
   ]
  },
  {
   "cell_type": "code",
   "execution_count": 7,
   "id": "3da993d2",
   "metadata": {},
   "outputs": [
    {
     "name": "stdout",
     "output_type": "stream",
     "text": [
      "Enter number of elements: 3\n",
      "Enter key: one\n",
      "Enter value: 1\n",
      "Enter key: two\n",
      "Enter value: 3\n",
      "Enter key: three\n",
      "Enter value: 3\n",
      "{'one': '1', 'two': '3', 'three': '3'}\n",
      "{'one': '1', 'two': '3'}\n"
     ]
    }
   ],
   "source": [
    "#Remove all duplicates values accross disctionaty values\n",
    "n=int(input(\"Enter number of elements: \"))\n",
    "d=dict()\n",
    "for i in range(0,n):\n",
    "    k=input(\"Enter key: \")\n",
    "    v=input(\"Enter value: \")\n",
    "    d.update({k:v})\n",
    "print(d)\n",
    "d1=dict()\n",
    "for key,val in d.items():\n",
    "    if val not in d1.values():\n",
    "        d1.update({key:val})\n",
    "print(d1)"
   ]
  }
 ],
 "metadata": {
  "kernelspec": {
   "display_name": "Python 3 (ipykernel)",
   "language": "python",
   "name": "python3"
  },
  "language_info": {
   "codemirror_mode": {
    "name": "ipython",
    "version": 3
   },
   "file_extension": ".py",
   "mimetype": "text/x-python",
   "name": "python",
   "nbconvert_exporter": "python",
   "pygments_lexer": "ipython3",
   "version": "3.9.12"
  },
  "vscode": {
   "interpreter": {
    "hash": "e7370f93d1d0cde622a1f8e1c04877d8463912d04d973331ad4851f04de6915a"
   }
  }
 },
 "nbformat": 4,
 "nbformat_minor": 5
}
