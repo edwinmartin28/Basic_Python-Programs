{
 "cells": [
  {
   "cell_type": "code",
   "execution_count": 12,
   "id": "04b4391c",
   "metadata": {},
   "outputs": [
    {
     "name": "stdout",
     "output_type": "stream",
     "text": [
      "DFS traversal of graph with source A is:\n",
      "A B D F C E "
     ]
    }
   ],
   "source": [
    "#Python program to implement DFS in state space.\n",
    "graph = {\n",
    "  'A' : ['B'],\n",
    "  'B' : ['C', 'D'],\n",
    "  'C' : ['E'],\n",
    "  'D' : ['F'],\n",
    "  'E' : [],\n",
    "  'F' : []\n",
    "}\n",
    "\n",
    "stack = []\n",
    "visited = []\n",
    "\n",
    "def dfs(graph, source):\n",
    "    stack.append(source)\n",
    "    visited.append(source)\n",
    "    while stack:\n",
    "        vertex = stack.pop()\n",
    "        print(vertex, end=\" \")\n",
    "        for u in graph[vertex]:\n",
    "            if u not in visited:\n",
    "                stack.append(u)\n",
    "                visited.append(u)\n",
    "\n",
    "\n",
    "print(\"DFS traversal of graph with source A is:\")\n",
    "dfs(graph, \"A\")"
   ]
  },
  {
   "cell_type": "code",
   "execution_count": 27,
   "id": "4aaaac5f",
   "metadata": {},
   "outputs": [
    {
     "name": "stdout",
     "output_type": "stream",
     "text": [
      "A B D F C E \n",
      "Goal reached  E\n"
     ]
    }
   ],
   "source": [
    "graph = {\n",
    "  'A' : ['B'],\n",
    "  'B' : ['C', 'D'],\n",
    "  'C' : ['E'],\n",
    "  'D' : ['F'],\n",
    "  'E' : [],\n",
    "  'F' : []\n",
    "}\n",
    "\n",
    "stack = []\n",
    "visited = []\n",
    "goal='E'\n",
    "\n",
    "def dfs(graph, source):\n",
    "    stack.append(source)\n",
    "    visited.append(source)\n",
    "    while stack:\n",
    "        vertex = stack.pop()\n",
    "        print (vertex, end = \" \")\n",
    "        if goal==vertex:\n",
    "            print (\"\\nGoal reached \",vertex)\n",
    "            break\n",
    "        for u in graph[vertex]:\n",
    "            if u not in visited:\n",
    "                stack.append(u)\n",
    "                visited.append(u)\n",
    "\n",
    "dfs(graph, \"A\")"
   ]
  },
  {
   "cell_type": "code",
   "execution_count": 30,
   "id": "c619e39b",
   "metadata": {},
   "outputs": [
    {
     "name": "stdout",
     "output_type": "stream",
     "text": [
      "Enter a goal:F\n",
      "A B D F \n",
      "Goal reached  F\n"
     ]
    }
   ],
   "source": [
    "graph = {\n",
    "  'A' : ['B'],\n",
    "  'B' : ['C', 'D'],\n",
    "  'C' : ['E'],\n",
    "  'D' : ['F'],\n",
    "  'E' : [],\n",
    "  'F' : []\n",
    "}\n",
    "\n",
    "stack = []\n",
    "visited = []\n",
    "goal=''\n",
    "\n",
    "def dfs(graph, source):\n",
    "    stack.append(source)\n",
    "    visited.append(source)\n",
    "    while stack:\n",
    "        vertex = stack.pop()\n",
    "        print (vertex, end = \" \")\n",
    "        if goal==vertex:\n",
    "            print (\"\\nGoal reached \",vertex)\n",
    "            break\n",
    "        for u in graph[vertex]:\n",
    "            if u not in visited:\n",
    "                stack.append(u)\n",
    "                visited.append(u)\n",
    "\n",
    "\n",
    "goal=input(\"Enter a goal:\")\n",
    "dfs(graph, \"A\")\n",
    "if goal not in visited:\n",
    "    print(\"\\nGoal not found\")"
   ]
  },
  {
   "cell_type": "code",
   "execution_count": 32,
   "id": "68094894",
   "metadata": {},
   "outputs": [
    {
     "name": "stdout",
     "output_type": "stream",
     "text": [
      "Enter a goal:R\n",
      "A B D F C E \n",
      "Goal not found\n"
     ]
    }
   ],
   "source": [
    "graph = {\n",
    "  'A' : ['B'],\n",
    "  'B' : ['C', 'D'],\n",
    "  'C' : ['E'],\n",
    "  'D' : ['F'],\n",
    "  'E' : [],\n",
    "  'F' : []\n",
    "}\n",
    "\n",
    "stack = []\n",
    "visited = []\n",
    "goal=''\n",
    "\n",
    "def dfs(graph, source):\n",
    "    stack.append(source)\n",
    "    visited.append(source)\n",
    "    while stack:\n",
    "        vertex = stack.pop()\n",
    "        print (vertex, end = \" \")\n",
    "        if goal==vertex:\n",
    "            print (\"\\nGoal reached \",vertex)\n",
    "            break\n",
    "        for u in graph[vertex]:\n",
    "            if u not in visited:\n",
    "                stack.append(u)\n",
    "                visited.append(u)\n",
    "\n",
    "\n",
    "goal=input(\"Enter a goal:\")\n",
    "dfs(graph, \"A\")\n",
    "if goal not in visited:\n",
    "    print(\"\\nGoal not found\")"
   ]
  },
  {
   "cell_type": "code",
   "execution_count": 4,
   "id": "5f0f7fae",
   "metadata": {},
   "outputs": [
    {
     "name": "stdout",
     "output_type": "stream",
     "text": [
      "Enter a goal:P\n",
      "A C F I M L Q P \n",
      "Goal reached  P\n"
     ]
    }
   ],
   "source": [
    "graph = {\n",
    "  'A' : ['B','C'],\n",
    "  'B' : ['D', 'E'],\n",
    "  'D' : ['G','H'],\n",
    "  'E' : [],\n",
    "  'G' : [],\n",
    "  'H' : ['J','K'],\n",
    "  'J' : ['N','O'],\n",
    "  'K' : ['P'],\n",
    "  'N' : [],\n",
    "  'O' : [],\n",
    "  'P' : [],\n",
    "  'C' : ['F'],\n",
    "  'F' : ['I'],\n",
    "  'I' : ['L','M'],\n",
    "  'L' : ['Q'],\n",
    "  'M' : [],\n",
    "  'Q' : []\n",
    "}\n",
    "stack = []\n",
    "visited = []\n",
    "goal=''\n",
    "\n",
    "def dfs(graph, source):\n",
    "    stack.append(source)\n",
    "    visited.append(source)\n",
    "    while stack:\n",
    "        vertex = stack.pop()\n",
    "        print (vertex, end = \" \")\n",
    "        if goal==vertex:\n",
    "            print (\"\\nGoal reached \",vertex)\n",
    "            break\n",
    "        for u in graph[vertex]:\n",
    "            if u not in visited:\n",
    "                stack.append(u)\n",
    "                visited.append(u)\n",
    "\n",
    "\n",
    "goal=input(\"Enter a goal:\")\n",
    "dfs(graph, \"A\")\n",
    "if goal not in visited:\n",
    "    print(\"\\nGoal not found\")"
   ]
  },
  {
   "cell_type": "code",
   "execution_count": 5,
   "id": "af0d9c03",
   "metadata": {},
   "outputs": [
    {
     "name": "stdout",
     "output_type": "stream",
     "text": [
      "DFS traversal of graph with source A is:\n",
      "A F E D B C "
     ]
    }
   ],
   "source": [
    "graph = {'A': ['B', 'D', 'E', 'F'], 'D': ['A'], 'B': ['A', 'F', 'C'], 'F': ['B', 'A'], 'C': ['B'], 'E': ['A']}\n",
    "stack = []\n",
    "visited = []\n",
    "\n",
    "def dfs(graph, source):\n",
    "    stack.append(source)\n",
    "    visited.append(source)\n",
    "    while stack:\n",
    "        vertex = stack.pop()\n",
    "        print(vertex, end=\" \")\n",
    "        for u in graph[vertex]:\n",
    "            if u not in visited:\n",
    "                stack.append(u)\n",
    "                visited.append(u)\n",
    "\n",
    "\n",
    "print(\"DFS traversal of graph with source A is:\")\n",
    "dfs(graph, \"A\")"
   ]
  },
  {
   "cell_type": "code",
   "execution_count": null,
   "id": "088885a2",
   "metadata": {},
   "outputs": [],
   "source": []
  }
 ],
 "metadata": {
  "kernelspec": {
   "display_name": "Python 3 (ipykernel)",
   "language": "python",
   "name": "python3"
  },
  "language_info": {
   "codemirror_mode": {
    "name": "ipython",
    "version": 3
   },
   "file_extension": ".py",
   "mimetype": "text/x-python",
   "name": "python",
   "nbconvert_exporter": "python",
   "pygments_lexer": "ipython3",
   "version": "3.9.12"
  }
 },
 "nbformat": 4,
 "nbformat_minor": 5
}
