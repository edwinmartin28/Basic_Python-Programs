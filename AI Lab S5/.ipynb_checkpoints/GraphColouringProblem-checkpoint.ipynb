{
 "cells": [
  {
   "cell_type": "code",
   "execution_count": 13,
   "id": "d10dded0",
   "metadata": {},
   "outputs": [
    {
     "name": "stdout",
     "output_type": "stream",
     "text": [
      "{'A': 'Red', 'B': 'Blue', 'C': 'Green', 'D': 'Red'}\n"
     ]
    }
   ],
   "source": [
    "colors = ['Red', 'Blue', 'Green', ]\n",
    "\n",
    "G = ['A', 'B', 'C', 'D']\n",
    "\n",
    "neighbors = {\n",
    "         'A' : ['B', 'C'],\n",
    "         'B' : ['A', 'C', 'D'],\n",
    "         'C' : ['A', 'B', 'D'],\n",
    "         'D' : ['B', 'C']\n",
    "      }\n",
    "colors_of_states = {}\n",
    "\n",
    "def promising(state, color):\n",
    "    for neighbor in neighbors.get(state): \n",
    "        color_of_neighbor = colors_of_states.get(neighbor)\n",
    "        if color_of_neighbor == color:\n",
    "            return False\n",
    "\n",
    "    return True\n",
    "\n",
    "def get_color_for_state(state):\n",
    "    for color in colors:\n",
    "        if promising(state, color):\n",
    "            return color\n",
    "\n",
    "def main():\n",
    "    for state in G:\n",
    "        colors_of_states[state] = get_color_for_state(state)\n",
    "\n",
    "    print(colors_of_states)\n",
    "\n",
    "\n",
    "main()"
   ]
  },
  {
   "cell_type": "code",
   "execution_count": null,
   "id": "fb1893f0",
   "metadata": {},
   "outputs": [],
   "source": []
  }
 ],
 "metadata": {
  "kernelspec": {
   "display_name": "Python 3 (ipykernel)",
   "language": "python",
   "name": "python3"
  },
  "language_info": {
   "codemirror_mode": {
    "name": "ipython",
    "version": 3
   },
   "file_extension": ".py",
   "mimetype": "text/x-python",
   "name": "python",
   "nbconvert_exporter": "python",
   "pygments_lexer": "ipython3",
   "version": "3.9.12"
  },
  "vscode": {
   "interpreter": {
    "hash": "fb4569285eef3a3450cb62085a5b1e0da4bce0af555edc33dcf29baf3acc1368"
   }
  }
 },
 "nbformat": 4,
 "nbformat_minor": 5
}
