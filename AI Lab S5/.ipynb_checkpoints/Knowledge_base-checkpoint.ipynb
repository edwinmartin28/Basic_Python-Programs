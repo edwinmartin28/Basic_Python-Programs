{
 "cells": [
  {
   "cell_type": "code",
   "execution_count": 1,
   "id": "k8zlXJtMf16n",
   "metadata": {
    "colab": {
     "base_uri": "https://localhost:8080/"
    },
    "id": "k8zlXJtMf16n",
    "outputId": "616764dc-0ff8-4add-89c6-927eb2e98400"
   },
   "outputs": [
    {
     "name": "stdout",
     "output_type": "stream",
     "text": [
      "Looking in indexes: https://pypi.org/simple, https://us-python.pkg.dev/colab-wheels/public/simple/\n",
      "Collecting pytholog\n",
      "  Downloading pytholog-2.4.1-py3-none-any.whl (16 kB)\n",
      "Requirement already satisfied: more-itertools in /usr/local/lib/python3.8/dist-packages (from pytholog) (9.0.0)\n",
      "Installing collected packages: pytholog\n",
      "Successfully installed pytholog-2.4.1\n"
     ]
    }
   ],
   "source": [
    "!pip install pytholog\n",
    "import pytholog as pl"
   ]
  },
  {
   "cell_type": "code",
   "execution_count": 2,
   "id": "JyOv0G-pf16r",
   "metadata": {
    "id": "JyOv0G-pf16r"
   },
   "outputs": [],
   "source": [
    "new_kb = pl.KnowledgeBase(\"flavor\")\n",
    "new_kb([\"likes(noor, sausage)\",\n",
    "        \"likes(melissa, pasta)\",\n",
    "        \"likes(dmitry, cookie)\",\n",
    "        \"likes(nikita, sausage)\",\n",
    "        \"likes(assel, limonade)\",\n",
    "        \"food_type(gouda, cheese)\",\n",
    "        \"food_type(ritz, cracker)\",\n",
    "        \"food_type(steak, meat)\",\n",
    "        \"food_type(sausage, meat)\",\n",
    "        \"food_type(limonade, juice)\",\n",
    "        \"food_type(cookie, dessert)\",\n",
    "        \"flavor(sweet, dessert)\",\n",
    "        \"flavor(savory, meat)\",\n",
    "        \"flavor(savory, cheese)\",\n",
    "        \"flavor(sweet, juice)\",\n",
    "        \"food_flavor(X, Y) :- food_type(X, Z), flavor(Y, Z)\",\n",
    "        \"dish_to_like(X, Y) :- likes(X, L), food_type(L, T), flavor(F, T), food_flavor(Y, F), neq(L, Y)\"])"
   ]
  },
  {
   "cell_type": "markdown",
   "id": "A_BpcsGIhVV7",
   "metadata": {
    "id": "A_BpcsGIhVV7"
   },
   "source": []
  },
  {
   "cell_type": "code",
   "execution_count": 3,
   "id": "DxKlzR4Ff16s",
   "metadata": {
    "colab": {
     "base_uri": "https://localhost:8080/"
    },
    "id": "DxKlzR4Ff16s",
    "outputId": "3002fa7e-2969-42a1-f8fc-2443bb542ff8"
   },
   "outputs": [
    {
     "data": {
      "text/plain": [
       "['Yes']"
      ]
     },
     "execution_count": 3,
     "metadata": {},
     "output_type": "execute_result"
    }
   ],
   "source": [
    "new_kb.query(pl.Expr(\"likes(noor, sausage)\"))"
   ]
  },
  {
   "cell_type": "code",
   "execution_count": 4,
   "id": "1xWSZvBpf16t",
   "metadata": {
    "colab": {
     "base_uri": "https://localhost:8080/"
    },
    "id": "1xWSZvBpf16t",
    "outputId": "2e5cfd16-42f1-4629-d400-deb59ad8fdb1"
   },
   "outputs": [
    {
     "data": {
      "text/plain": [
       "['No']"
      ]
     },
     "execution_count": 4,
     "metadata": {},
     "output_type": "execute_result"
    }
   ],
   "source": [
    "new_kb.query(pl.Expr(\"likes(noor, pasta)\"))"
   ]
  },
  {
   "cell_type": "code",
   "execution_count": 5,
   "id": "Ywm1Syhsf16t",
   "metadata": {
    "colab": {
     "base_uri": "https://localhost:8080/"
    },
    "id": "Ywm1Syhsf16t",
    "outputId": "233a3d94-6935-4734-c8ab-fecb2142a431"
   },
   "outputs": [
    {
     "name": "stdout",
     "output_type": "stream",
     "text": [
      "[{'What': 'cookie'}, {'What': 'limonade'}]\n"
     ]
    }
   ],
   "source": [
    "print(new_kb.query(pl.Expr(\"food_flavor(What, sweet)\")))"
   ]
  },
  {
   "cell_type": "code",
   "execution_count": 6,
   "id": "pjvpuyt_f16u",
   "metadata": {
    "colab": {
     "base_uri": "https://localhost:8080/"
    },
    "id": "pjvpuyt_f16u",
    "outputId": "51543c65-31a3-40c1-da61-66d52a20b00d"
   },
   "outputs": [
    {
     "name": "stdout",
     "output_type": "stream",
     "text": [
      "[{'What': 'gouda'}, {'What': 'steak'}]\n"
     ]
    }
   ],
   "source": [
    "print(new_kb.query(pl.Expr(\"dish_to_like(noor, What)\")))"
   ]
  },
  {
   "cell_type": "code",
   "execution_count": null,
   "id": "cea58242",
   "metadata": {},
   "outputs": [],
   "source": []
  },
  {
   "cell_type": "code",
   "execution_count": null,
   "id": "921f47b2",
   "metadata": {},
   "outputs": [],
   "source": []
  },
  {
   "cell_type": "code",
   "execution_count": null,
   "id": "33261bdd",
   "metadata": {},
   "outputs": [],
   "source": []
  },
  {
   "cell_type": "code",
   "execution_count": null,
   "id": "293c6591",
   "metadata": {},
   "outputs": [],
   "source": []
  },
  {
   "cell_type": "code",
   "execution_count": null,
   "id": "5405a7d5",
   "metadata": {},
   "outputs": [],
   "source": []
  },
  {
   "cell_type": "code",
   "execution_count": null,
   "id": "3049ce79",
   "metadata": {},
   "outputs": [],
   "source": []
  },
  {
   "cell_type": "code",
   "execution_count": null,
   "id": "ff339961",
   "metadata": {},
   "outputs": [],
   "source": []
  },
  {
   "cell_type": "code",
   "execution_count": null,
   "id": "a167ed36",
   "metadata": {},
   "outputs": [],
   "source": []
  },
  {
   "cell_type": "code",
   "execution_count": null,
   "id": "aaefede7",
   "metadata": {},
   "outputs": [],
   "source": []
  },
  {
   "cell_type": "code",
   "execution_count": null,
   "id": "53d82f7d",
   "metadata": {},
   "outputs": [],
   "source": []
  },
  {
   "cell_type": "code",
   "execution_count": null,
   "id": "0b09a094",
   "metadata": {},
   "outputs": [],
   "source": []
  },
  {
   "cell_type": "code",
   "execution_count": null,
   "id": "f8e9908d",
   "metadata": {},
   "outputs": [],
   "source": []
  }
 ],
 "metadata": {
  "colab": {
   "provenance": []
  },
  "kernelspec": {
   "display_name": "Python 3 (ipykernel)",
   "language": "python",
   "name": "python3"
  },
  "language_info": {
   "codemirror_mode": {
    "name": "ipython",
    "version": 3
   },
   "file_extension": ".py",
   "mimetype": "text/x-python",
   "name": "python",
   "nbconvert_exporter": "python",
   "pygments_lexer": "ipython3",
   "version": "3.9.12"
  }
 },
 "nbformat": 4,
 "nbformat_minor": 5
}
