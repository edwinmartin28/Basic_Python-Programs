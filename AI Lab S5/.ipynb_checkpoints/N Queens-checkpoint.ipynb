{
 "cells": [
  {
   "cell_type": "code",
   "execution_count": 1,
   "id": "51074879",
   "metadata": {},
   "outputs": [
    {
     "name": "stdout",
     "output_type": "stream",
     "text": [
      "Enter N:8\n",
      "\n",
      "\n",
      "1 0 0 0 0 0 0 0 \n",
      "0 0 0 0 0 0 1 0 \n",
      "0 0 0 0 1 0 0 0 \n",
      "0 0 0 0 0 0 0 1 \n",
      "0 1 0 0 0 0 0 0 \n",
      "0 0 0 1 0 0 0 0 \n",
      "0 0 0 0 0 1 0 0 \n",
      "0 0 1 0 0 0 0 0 \n"
     ]
    },
    {
     "data": {
      "text/plain": [
       "True"
      ]
     },
     "execution_count": 1,
     "metadata": {},
     "output_type": "execute_result"
    }
   ],
   "source": [
    "#N Queens\n",
    "\n",
    "global N\n",
    " \n",
    "def printSolution(board):\n",
    "    print(\"\\n\")\n",
    "    for i in range(N):\n",
    "        for j in range(N):\n",
    "            print (board[i][j],end=' ')\n",
    "        print()\n",
    "\n",
    "def isSafe(board, row, col):\n",
    "    \n",
    "    for i in range(col):\n",
    "        if board[row][i] == 1:\n",
    "            return False\n",
    "   \n",
    "    for i, j in zip(range(row, -1, -1), range(col, -1, -1)):\n",
    "        if board[i][j] == 1:\n",
    "            return False\n",
    " \n",
    "    for i, j in zip(range(row, N, 1), range(col, -1, -1)):\n",
    "        if board[i][j] == 1:\n",
    "            return False\n",
    " \n",
    "    return True\n",
    " \n",
    "def solveNQUtil(board, col):\n",
    "   \n",
    "    if col >= N:\n",
    "        return True\n",
    " \n",
    "    for i in range(N):\n",
    "        if isSafe(board, i, col):\n",
    "            board[i][col] = 1           \n",
    "            if solveNQUtil(board, col + 1) == True:\n",
    "                return True            \n",
    "            board[i][col] = 0\n",
    " \n",
    "    return False\n",
    " \n",
    "def solveNQ():\n",
    "    board = [ [0]*N for i in range(N)]\n",
    " \n",
    "    if solveNQUtil(board, 0) == False:\n",
    "        print (\"Solution does not exist\")\n",
    "        return False\n",
    " \n",
    "    printSolution(board)\n",
    "    return True\n",
    " \n",
    "N=int(input(\"Enter N:\"))\n",
    "solveNQ()"
   ]
  },
  {
   "cell_type": "code",
   "execution_count": 3,
   "id": "f6119e84",
   "metadata": {},
   "outputs": [
    {
     "name": "stdout",
     "output_type": "stream",
     "text": [
      "Enter the number of queens\n",
      "8\n",
      "[1, 0, 0, 0, 0, 0, 0, 0]\n",
      "[0, 0, 0, 0, 1, 0, 0, 0]\n",
      "[0, 0, 0, 0, 0, 0, 0, 1]\n",
      "[0, 0, 0, 0, 0, 1, 0, 0]\n",
      "[0, 0, 1, 0, 0, 0, 0, 0]\n",
      "[0, 0, 0, 0, 0, 0, 1, 0]\n",
      "[0, 1, 0, 0, 0, 0, 0, 0]\n",
      "[0, 0, 0, 1, 0, 0, 0, 0]\n"
     ]
    }
   ],
   "source": [
    "print (\"Enter the number of queens\")\n",
    "N = int(input())\n",
    "board = [[0]*N for _ in range(N)]\n",
    "def attack(i, j):\n",
    "    for k in range(0,N):\n",
    "        if board[i][k]==1 or board[k][j]==1:\n",
    "            return True\n",
    "    for k in range(0,N):\n",
    "        for l in range(0,N):\n",
    "            if (k+l==i+j) or (k-l==i-j):\n",
    "                if board[k][l]==1:\n",
    "                    return True\n",
    "    return False\n",
    "def N_queens(n):\n",
    "    if n==0:\n",
    "        return True\n",
    "    for i in range(0,N):\n",
    "        for j in range(0,N):\n",
    "            if (not(attack(i,j))) and (board[i][j]!=1):\n",
    "                board[i][j] = 1\n",
    "                if N_queens(n-1)==True:\n",
    "                    return True\n",
    "                board[i][j] = 0\n",
    "    return False\n",
    "N_queens(N)\n",
    "for i in board:\n",
    "    print (i)"
   ]
  }
 ],
 "metadata": {
  "kernelspec": {
   "display_name": "Python 3 (ipykernel)",
   "language": "python",
   "name": "python3"
  },
  "language_info": {
   "codemirror_mode": {
    "name": "ipython",
    "version": 3
   },
   "file_extension": ".py",
   "mimetype": "text/x-python",
   "name": "python",
   "nbconvert_exporter": "python",
   "pygments_lexer": "ipython3",
   "version": "3.9.12"
  }
 },
 "nbformat": 4,
 "nbformat_minor": 5
}
