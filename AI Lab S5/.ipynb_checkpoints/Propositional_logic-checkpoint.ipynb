{
 "cells": [
  {
   "cell_type": "markdown",
   "id": "e07306aa",
   "metadata": {
    "id": "e07306aa"
   },
   "source": [
    "# Propositional Logic"
   ]
  },
  {
   "cell_type": "code",
   "execution_count": 1,
   "id": "adf8f55a",
   "metadata": {
    "colab": {
     "base_uri": "https://localhost:8080/"
    },
    "executionInfo": {
     "elapsed": 3782,
     "status": "ok",
     "timestamp": 1671504673447,
     "user": {
      "displayName": "Asha Rose Thomas",
      "userId": "16605216088521626894"
     },
     "user_tz": -330
    },
    "id": "adf8f55a",
    "outputId": "496fcd78-2321-4ccc-d5bd-2f08199a4304"
   },
   "outputs": [
    {
     "name": "stdout",
     "output_type": "stream",
     "text": [
      "Looking in indexes: https://pypi.org/simple, https://us-python.pkg.dev/colab-wheels/public/simple/\n",
      "Collecting pytholog\n",
      "  Downloading pytholog-2.4.1-py3-none-any.whl (16 kB)\n",
      "Requirement already satisfied: more-itertools in /usr/local/lib/python3.8/dist-packages (from pytholog) (9.0.0)\n",
      "Installing collected packages: pytholog\n",
      "Successfully installed pytholog-2.4.1\n"
     ]
    }
   ],
   "source": [
    "!pip install pytholog"
   ]
  },
  {
   "cell_type": "code",
   "execution_count": 2,
   "id": "411e22c7",
   "metadata": {
    "executionInfo": {
     "elapsed": 3,
     "status": "ok",
     "timestamp": 1671504678054,
     "user": {
      "displayName": "Asha Rose Thomas",
      "userId": "16605216088521626894"
     },
     "user_tz": -330
    },
    "id": "411e22c7"
   },
   "outputs": [],
   "source": [
    "import pytholog as pl"
   ]
  },
  {
   "cell_type": "code",
   "execution_count": 3,
   "id": "232ee3a7",
   "metadata": {
    "executionInfo": {
     "elapsed": 901,
     "status": "ok",
     "timestamp": 1671504680992,
     "user": {
      "displayName": "Asha Rose Thomas",
      "userId": "16605216088521626894"
     },
     "user_tz": -330
    },
    "id": "232ee3a7"
   },
   "outputs": [],
   "source": [
    "from sympy import *\n",
    "from sympy.logic.inference import satisfiable"
   ]
  },
  {
   "cell_type": "code",
   "execution_count": 4,
   "id": "708272e4",
   "metadata": {
    "colab": {
     "base_uri": "https://localhost:8080/"
    },
    "executionInfo": {
     "elapsed": 360,
     "status": "ok",
     "timestamp": 1671504684386,
     "user": {
      "displayName": "Asha Rose Thomas",
      "userId": "16605216088521626894"
     },
     "user_tz": -330
    },
    "id": "708272e4",
    "outputId": "6192e7e9-d03d-4264-ac60-d4009dce03c1"
   },
   "outputs": [
    {
     "name": "stdout",
     "output_type": "stream",
     "text": [
      "hagrid & rain\n",
      "False\n",
      "{hagrid: True, rain: True}\n"
     ]
    }
   ],
   "source": [
    "rain = Symbol(\"rain\")\n",
    "hagrid = Symbol(\"hagrid\")  \n",
    "dumbledore = Symbol(\"dumpledore\")\n",
    "logical_sentence = And(rain, hagrid) \n",
    "print(logical_sentence)\n",
    "print(logical_sentence.subs({rain: True, hagrid: False}))\n",
    "print(satisfiable(logical_sentence))"
   ]
  },
  {
   "cell_type": "code",
   "execution_count": 5,
   "id": "2093ea15",
   "metadata": {
    "colab": {
     "base_uri": "https://localhost:8080/"
    },
    "executionInfo": {
     "elapsed": 364,
     "status": "ok",
     "timestamp": 1671504689655,
     "user": {
      "displayName": "Asha Rose Thomas",
      "userId": "16605216088521626894"
     },
     "user_tz": -330
    },
    "id": "2093ea15",
    "outputId": "f348ab08-0a0c-48e4-f874-353d2827efce"
   },
   "outputs": [
    {
     "name": "stdout",
     "output_type": "stream",
     "text": [
      "Implies(~rain, hagrid)\n",
      "{rain: True, hagrid: True}\n"
     ]
    }
   ],
   "source": [
    "implication_logic = Implies(Not(rain), hagrid) \n",
    "print(implication_logic)\n",
    "print(satisfiable(implication_logic))"
   ]
  },
  {
   "cell_type": "code",
   "execution_count": 6,
   "id": "21870055",
   "metadata": {
    "executionInfo": {
     "elapsed": 349,
     "status": "ok",
     "timestamp": 1671504692907,
     "user": {
      "displayName": "Asha Rose Thomas",
      "userId": "16605216088521626894"
     },
     "user_tz": -330
    },
    "id": "21870055"
   },
   "outputs": [],
   "source": [
    "knowledge_base = And(                   \n",
    "   Implies(Not(rain), hagrid),\n",
    "   Or(hagrid, dumbledore),\n",
    "   Not(And(hagrid, dumbledore)),\n",
    "   hagrid\n",
    ")"
   ]
  },
  {
   "cell_type": "code",
   "execution_count": 7,
   "id": "nMETNPKk3FQN",
   "metadata": {
    "colab": {
     "base_uri": "https://localhost:8080/"
    },
    "executionInfo": {
     "elapsed": 622,
     "status": "ok",
     "timestamp": 1671504695434,
     "user": {
      "displayName": "Asha Rose Thomas",
      "userId": "16605216088521626894"
     },
     "user_tz": -330
    },
    "id": "nMETNPKk3FQN",
    "outputId": "e8880b00-5c18-4b8f-d937-13195516c76d"
   },
   "outputs": [
    {
     "name": "stdout",
     "output_type": "stream",
     "text": [
      "hagrid & (dumpledore | hagrid) & (Implies(~rain, hagrid)) & ~(dumpledore & hagrid)\n"
     ]
    }
   ],
   "source": [
    "print(knowledge_base)"
   ]
  },
  {
   "cell_type": "code",
   "execution_count": 8,
   "id": "76ec29bd",
   "metadata": {
    "colab": {
     "base_uri": "https://localhost:8080/"
    },
    "executionInfo": {
     "elapsed": 396,
     "status": "ok",
     "timestamp": 1671504698752,
     "user": {
      "displayName": "Asha Rose Thomas",
      "userId": "16605216088521626894"
     },
     "user_tz": -330
    },
    "id": "76ec29bd",
    "outputId": "45096729-4218-43b3-e185-81286e3ded8a"
   },
   "outputs": [
    {
     "name": "stdout",
     "output_type": "stream",
     "text": [
      "{rain: True, hagrid: True, dumpledore: False}\n",
      "{hagrid: True, dumpledore: False, rain: False}\n"
     ]
    }
   ],
   "source": [
    "models = satisfiable(knowledge_base, all_models=True)\n",
    "for model in models:\n",
    "    print(model)"
   ]
  },
  {
   "cell_type": "code",
   "execution_count": 9,
   "id": "5093e1b2",
   "metadata": {
    "colab": {
     "base_uri": "https://localhost:8080/"
    },
    "executionInfo": {
     "elapsed": 359,
     "status": "ok",
     "timestamp": 1671504703361,
     "user": {
      "displayName": "Asha Rose Thomas",
      "userId": "16605216088521626894"
     },
     "user_tz": -330
    },
    "id": "5093e1b2",
    "outputId": "f60656f7-2b8c-4c4e-fee5-227c283e2b2a"
   },
   "outputs": [
    {
     "name": "stdout",
     "output_type": "stream",
     "text": [
      "Implies(happy & ~rainy, play football)\n",
      "False\n"
     ]
    }
   ],
   "source": [
    "from sympy.logic.inference import valid\n",
    "p = Symbol(\"rainy\")\n",
    "q = Symbol(\"happy\")\n",
    "r = Symbol(\"play football\")\n",
    "    \n",
    "p1 = Implies(And(Not(p),q),r)\n",
    "print(p1)\n",
    "print(valid(p1))"
   ]
  },
  {
   "cell_type": "code",
   "execution_count": null,
   "id": "71bd7e8c",
   "metadata": {
    "id": "71bd7e8c"
   },
   "outputs": [],
   "source": []
  },
  {
   "cell_type": "code",
   "execution_count": null,
   "id": "58a11f14",
   "metadata": {},
   "outputs": [],
   "source": []
  },
  {
   "cell_type": "code",
   "execution_count": null,
   "id": "74f42c18",
   "metadata": {},
   "outputs": [],
   "source": []
  },
  {
   "cell_type": "code",
   "execution_count": null,
   "id": "612d9527",
   "metadata": {},
   "outputs": [],
   "source": []
  },
  {
   "cell_type": "code",
   "execution_count": null,
   "id": "7ebd22bf",
   "metadata": {},
   "outputs": [],
   "source": []
  },
  {
   "cell_type": "code",
   "execution_count": null,
   "id": "0f5bb888",
   "metadata": {},
   "outputs": [],
   "source": []
  },
  {
   "cell_type": "code",
   "execution_count": null,
   "id": "84c91b21",
   "metadata": {},
   "outputs": [],
   "source": []
  },
  {
   "cell_type": "code",
   "execution_count": null,
   "id": "688297cf",
   "metadata": {},
   "outputs": [],
   "source": []
  },
  {
   "cell_type": "code",
   "execution_count": null,
   "id": "43c3871f",
   "metadata": {},
   "outputs": [],
   "source": []
  },
  {
   "cell_type": "code",
   "execution_count": null,
   "id": "ce5cc3ce",
   "metadata": {},
   "outputs": [],
   "source": []
  },
  {
   "cell_type": "code",
   "execution_count": null,
   "id": "10138598",
   "metadata": {},
   "outputs": [],
   "source": []
  }
 ],
 "metadata": {
  "colab": {
   "provenance": []
  },
  "kernelspec": {
   "display_name": "Python 3 (ipykernel)",
   "language": "python",
   "name": "python3"
  },
  "language_info": {
   "codemirror_mode": {
    "name": "ipython",
    "version": 3
   },
   "file_extension": ".py",
   "mimetype": "text/x-python",
   "name": "python",
   "nbconvert_exporter": "python",
   "pygments_lexer": "ipython3",
   "version": "3.9.12"
  }
 },
 "nbformat": 4,
 "nbformat_minor": 5
}
