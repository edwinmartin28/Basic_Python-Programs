{
 "cells": [
  {
   "cell_type": "code",
   "execution_count": 3,
   "id": "e9392ae4",
   "metadata": {},
   "outputs": [
    {
     "name": "stdout",
     "output_type": "stream",
     "text": [
      "Following is the Breadth-First Search\n",
      "A B D F C E "
     ]
    }
   ],
   "source": [
    "#Python program to implement BFS in state space.\n",
    "graph = {\n",
    "  'A' : ['B'],\n",
    "  'B' : ['C', 'D'],\n",
    "  'C' : ['E'],\n",
    "  'D' : ['F'],\n",
    "  'E' : [],\n",
    "  'F' : []\n",
    "}\n",
    "\n",
    "explored = []\n",
    "frontier = []\n",
    "\n",
    "def bfs(explored, graph, node):\n",
    "    explored.append(node)\n",
    "    frontier.append(node)\n",
    "\n",
    "    while frontier:  \n",
    "        m = frontier.pop(0) \n",
    "        print (m, end = \" \") \n",
    "\n",
    "        for neighbour in graph[m]:\n",
    "            if neighbour not in explored:\n",
    "                explored.append(neighbour)\n",
    "                frontier.append(neighbour)\n",
    "\n",
    "print(\"Following is the Breadth-First Search\")\n",
    "bfs(explored, graph, 'A')   \n"
   ]
  },
  {
   "cell_type": "code",
   "execution_count": 7,
   "id": "4f10f9ad",
   "metadata": {},
   "outputs": [
    {
     "name": "stdout",
     "output_type": "stream",
     "text": [
      "A B C D E \n",
      "Goal reached  E\n"
     ]
    }
   ],
   "source": [
    "graph = {\n",
    "  'A' : ['B'],\n",
    "  'B' : ['C', 'D'],\n",
    "  'C' : ['E'],\n",
    "  'D' : ['F'],\n",
    "  'E' : [],\n",
    "  'F' : []\n",
    "}\n",
    "\n",
    "explored = []\n",
    "frontier = []\n",
    "goal='E'\n",
    "\n",
    "def bfs(explored, graph, node):\n",
    "    explored.append(node)\n",
    "    frontier.append(node)\n",
    "\n",
    "    while frontier:  \n",
    "        m = frontier.pop(0)\n",
    "        print (m, end = \" \")\n",
    "        if goal==m:\n",
    "            print (\"\\nGoal reached \",m)\n",
    "            break\n",
    "\n",
    "        for neighbour in graph[m]:\n",
    "            if neighbour not in explored:\n",
    "                explored.append(neighbour)\n",
    "                frontier.append(neighbour)\n",
    "\n",
    "bfs(explored, graph, 'A')   "
   ]
  },
  {
   "cell_type": "code",
   "execution_count": 8,
   "id": "dd05e822",
   "metadata": {
    "scrolled": true
   },
   "outputs": [
    {
     "name": "stdout",
     "output_type": "stream",
     "text": [
      "Enter a goal:C\n",
      "A B C \n",
      "Goal reached  C\n"
     ]
    }
   ],
   "source": [
    "graph = {\n",
    "  'A' : ['B'],\n",
    "  'B' : ['C', 'D'],\n",
    "  'C' : ['E'],\n",
    "  'D' : ['F'],\n",
    "  'E' : [],\n",
    "  'F' : []\n",
    "}\n",
    "\n",
    "explored = []\n",
    "frontier = []\n",
    "goal=''\n",
    "\n",
    "def bfs(explored, graph, node):\n",
    "    explored.append(node)\n",
    "    frontier.append(node)\n",
    "\n",
    "    while frontier:  \n",
    "        m = frontier.pop(0)\n",
    "        print (m, end = \" \")\n",
    "        if goal==m:\n",
    "            print (\"\\nGoal reached \",m)\n",
    "            break\n",
    "\n",
    "        for neighbour in graph[m]:\n",
    "            if neighbour not in explored:\n",
    "                explored.append(neighbour)\n",
    "                frontier.append(neighbour)\n",
    "\n",
    "\n",
    "goal=input(\"Enter a goal:\")\n",
    "bfs(explored, graph, 'A')   "
   ]
  },
  {
   "cell_type": "code",
   "execution_count": 10,
   "id": "bfe20ba9",
   "metadata": {},
   "outputs": [
    {
     "name": "stdout",
     "output_type": "stream",
     "text": [
      "Enter a goal:V\n",
      "A B C D E F \n",
      "Goal not found\n"
     ]
    }
   ],
   "source": [
    "graph = {\n",
    "  'A' : ['B'],\n",
    "  'B' : ['C', 'D'],\n",
    "  'C' : ['E'],\n",
    "  'D' : ['F'],\n",
    "  'E' : [],\n",
    "  'F' : []\n",
    "}\n",
    "\n",
    "explored = []\n",
    "frontier = []\n",
    "goal=''\n",
    "\n",
    "def bfs(explored, graph, node):\n",
    "    explored.append(node)\n",
    "    frontier.append(node)\n",
    "\n",
    "    while frontier:  \n",
    "        m = frontier.pop(0)\n",
    "        print (m, end = \" \")\n",
    "        if goal==m:\n",
    "            print (\"\\nGoal reached \",m)\n",
    "            break\n",
    "        for neighbour in graph[m]:\n",
    "            if neighbour not in explored:\n",
    "                explored.append(neighbour)\n",
    "                frontier.append(neighbour)\n",
    "\n",
    "\n",
    "goal=input(\"Enter a goal:\")\n",
    "bfs(explored, graph, 'A')   \n",
    "if goal not in explored:\n",
    "    print(\"\\nGoal not found\")"
   ]
  },
  {
   "cell_type": "code",
   "execution_count": 2,
   "id": "f5707e24",
   "metadata": {},
   "outputs": [
    {
     "name": "stdout",
     "output_type": "stream",
     "text": [
      "Enter a goal:W\n",
      "A B C D E F G H I N J K L M O P Q \n",
      "Goal not found\n"
     ]
    }
   ],
   "source": [
    "graph = {\n",
    "  'A' : ['B','C'],\n",
    "  'B' : ['D', 'E'],\n",
    "  'D' : ['G','H'],\n",
    "  'E' : [],\n",
    "  'G' : ['N'],\n",
    "  'H' : ['J','K'],\n",
    "  'J' : ['N','O'],\n",
    "  'K' : ['P'],\n",
    "  'N' : ['G'],\n",
    "  'O' : [],\n",
    "  'P' : ['Q'],\n",
    "  'C' : ['F'],\n",
    "  'F' : ['I'],\n",
    "  'I' : ['L','M'],\n",
    "  'L' : ['Q'],\n",
    "  'M' : [],\n",
    "  'Q' : ['P']\n",
    "}\n",
    "\n",
    "explored = []\n",
    "frontier = []\n",
    "goal=''\n",
    "\n",
    "def bfs(explored, graph, node):\n",
    "    explored.append(node)\n",
    "    frontier.append(node)\n",
    "\n",
    "    while frontier:  \n",
    "        m = frontier.pop(0)\n",
    "        print (m, end = \" \")\n",
    "        if goal==m:\n",
    "            print (\"\\nGoal reached \",m)\n",
    "            break\n",
    "\n",
    "        for neighbour in graph[m]:\n",
    "            if neighbour not in explored:\n",
    "                explored.append(neighbour)\n",
    "                frontier.append(neighbour)\n",
    "\n",
    "\n",
    "goal=input(\"Enter a goal:\")\n",
    "bfs(explored, graph, 'A') \n",
    "if goal not in explored:\n",
    "    print(\"\\nGoal not found\")"
   ]
  },
  {
   "attachments": {
    "Graph.png": {
     "image/png": "[encoded data removed]"
    }
   },
   "cell_type": "markdown",
   "id": "0267c32b",
   "metadata": {},
   "source": [
    "![Graph.png](attachment:Graph.png)"
   ]
  }
 ],
 "metadata": {
  "kernelspec": {
   "display_name": "Python 3 (ipykernel)",
   "language": "python",
   "name": "python3"
  },
  "language_info": {
   "codemirror_mode": {
    "name": "ipython",
    "version": 3
   },
   "file_extension": ".py",
   "mimetype": "text/x-python",
   "name": "python",
   "nbconvert_exporter": "python",
   "pygments_lexer": "ipython3",
   "version": "3.9.12"
  },
  "vscode": {
   "interpreter": {
    "hash": "fb4569285eef3a3450cb62085a5b1e0da4bce0af555edc33dcf29baf3acc1368"
   }
  }
 },
 "nbformat": 4,
 "nbformat_minor": 5
}
