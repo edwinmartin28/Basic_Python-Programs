{
 "cells": [
  {
   "cell_type": "code",
   "execution_count": 1,
   "id": "ab72ab21",
   "metadata": {},
   "outputs": [],
   "source": [
    "def dec():\n",
    "    global tree\n",
    "    global parent\n",
    "    tree={(0,0):[]}\n",
    "    parent=(0,0)"
   ]
  },
  {
   "cell_type": "code",
   "execution_count": 2,
   "id": "e61f0390",
   "metadata": {},
   "outputs": [],
   "source": [
    "def add(jug1,jug2,k):\n",
    "    global parent\n",
    "    if k==0:\n",
    "        tree[parent].append((jug1,jug2))\n",
    "        tree[(jug1,jug2)]=[]\n",
    "        parent=(jug1,jug2)\n",
    "    else:\n",
    "        tree[parent].append((jug2,jug1))\n",
    "        tree[(jug2,jug1)]=[]\n",
    "        parent=(jug2,jug1)"
   ]
  },
  {
   "cell_type": "code",
   "execution_count": 3,
   "id": "d4c7a467",
   "metadata": {},
   "outputs": [],
   "source": [
    "def jug(jug1,jug2,goal,n,m,k):\n",
    "    while jug1!=goal and jug2!=goal:\n",
    "        if jug2==0:\n",
    "            jug2=m\n",
    "            add(jug1,jug2,k)\n",
    "        jug1+=jug2\n",
    "        if jug1>n:\n",
    "            jug2=jug1-n\n",
    "            jug1=n\n",
    "            add(jug1,jug2,k)\n",
    "        else:\n",
    "            jug2=0\n",
    "            add(jug1,jug2,k)\n",
    "        if jug1>=n:\n",
    "            if jug1!=goal:\n",
    "                jug1=0\n",
    "            else:\n",
    "                jug2=0\n",
    "            add(jug1,jug2,k)"
   ]
  },
  {
   "cell_type": "code",
   "execution_count": 4,
   "id": "a9c3a8a4",
   "metadata": {},
   "outputs": [],
   "source": [
    "def bfs(node,goal):\n",
    "    frontier=[]\n",
    "    explored=[]\n",
    "    global l\n",
    "    l=[]\n",
    "    global p\n",
    "    p={}\n",
    "    frontier.append(node)\n",
    "    while frontier:\n",
    "        node=frontier.pop(0)\n",
    "        explored.append(node)\n",
    "        if node==(0,goal) or node==(goal,0):\n",
    "            while node!=(0,0):\n",
    "                l.append(node)\n",
    "                node=p[node]\n",
    "            return\n",
    "        for j in tree[node]:\n",
    "            if j not in frontier and j not in explored:\n",
    "                    frontier.append(j)\n",
    "                    p[j]=node"
   ]
  },
  {
   "cell_type": "code",
   "execution_count": 6,
   "id": "7f50d585",
   "metadata": {},
   "outputs": [
    {
     "name": "stdout",
     "output_type": "stream",
     "text": [
      "Enter jug 1 capacity: 3\n",
      "Enter jug 2 capacity: 5\n",
      "Enter goal capacity: 2\n",
      "(0, 5)\n",
      "(3, 2)\n",
      "(0, 2)\n"
     ]
    }
   ],
   "source": [
    "def main():\n",
    "    dec()\n",
    "    c1=int(input(\"Enter capacity jug 1: \"))\n",
    "    c2=int(input(\"Enter capacity jug 2: \"))\n",
    "    goal=int(input(\"Enter goal capacity: \"))\n",
    "    if c1%2==0 and c2%2==0 and goal%2!=0:\n",
    "        print(\"Case not possible!\")    \n",
    "    elif goal>max([c1,c2]):\n",
    "        print(\"Limit Reached\")\n",
    "    else: \n",
    "        jug1=0\n",
    "        jug2=0\n",
    "        jug(jug1,jug2,goal,c1,c2,0)\n",
    "        global parent\n",
    "        parent=(0,0)\n",
    "        jug(jug2,jug1,goal,c2,c1,1)\n",
    "        bfs((0,0),goal)\n",
    "        [print(x) for x in reversed(l)]\n",
    "main()"
   ]
  },
  {
   "cell_type": "code",
   "execution_count": null,
   "id": "fa127db0",
   "metadata": {},
   "outputs": [],
   "source": []
  }
 ],
 "metadata": {
  "kernelspec": {
   "display_name": "Python 3 (ipykernel)",
   "language": "python",
   "name": "python3"
  },
  "language_info": {
   "codemirror_mode": {
    "name": "ipython",
    "version": 3
   },
   "file_extension": ".py",
   "mimetype": "text/x-python",
   "name": "python",
   "nbconvert_exporter": "python",
   "pygments_lexer": "ipython3",
   "version": "3.9.12"
  }
 },
 "nbformat": 4,
 "nbformat_minor": 5
}
