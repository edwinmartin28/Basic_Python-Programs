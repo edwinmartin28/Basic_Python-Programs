{
 "cells": [
  {
   "cell_type": "code",
   "execution_count": null,
   "id": "dd7b0059",
   "metadata": {},
   "outputs": [],
   "source": [
    "def pour(jug1, jug2):\n",
    "    max1, max2, fill = 5, 7, 4  #Change maximum capacity and final capacity\n",
    "    print(\"%d\\t%d\" % (jug1, jug2))\n",
    "    if jug2 is fill:\n",
    "        return\n",
    "    elif jug2 is max2:\n",
    "        pour(0, jug1)\n",
    "    elif jug1 != 0 and jug2 is 0:\n",
    "        pour(0, jug1)\n",
    "    elif jug1 is fill:\n",
    "        pour(jug1, 0)\n",
    "    elif jug1 < max1:\n",
    "        pour(max1, jug2)\n",
    "    elif jug1 < (max2-jug2):\n",
    "        pour(0, (jug1+jug2))\n",
    "    else:\n",
    "        pour(jug1-(max2-jug2), (max2-jug2)+jug2)\n",
    " \n",
    "print(\"JUG1\\tJUG2\")\n",
    "pour(0, 0)"
   ]
  },
  {
   "cell_type": "code",
   "execution_count": 20,
   "id": "0b9428ec",
   "metadata": {},
   "outputs": [
    {
     "name": "stdout",
     "output_type": "stream",
     "text": [
      "Enter the max capacity in jug 1:3\n",
      "Enter the max capacity in jug 2:5\n",
      "Enter the final :2\n",
      "Path is as Follow:\n",
      "( 0 ,  0 )\n",
      "( 3 ,  0 )\n",
      "( 3 ,  5 )\n",
      "( 0 ,  5 )\n",
      "( 3 ,  2 )\n",
      "( 0 ,  2 )\n"
     ]
    },
    {
     "data": {
      "text/plain": [
       "True"
      ]
     },
     "execution_count": 20,
     "metadata": {},
     "output_type": "execute_result"
    }
   ],
   "source": [
    "from collections import defaultdict \n",
    "visited = defaultdict(lambda: False) \n",
    "def Water_Jug(Jug1, Jug2):   \n",
    "    if (Jug1 == Final and Jug2 == 0) or (Jug2 == Final and Jug1 == 0): \n",
    "        print(\"(\",Jug1, \", \",Jug2,\")\") \n",
    "        return True\n",
    "    if visited[(Jug1, Jug2)] == False: \n",
    "        print(\"(\",Jug1, \", \",Jug2,\")\") \n",
    "        visited[(Jug1, Jug2)] = True\n",
    "        return (Water_Jug(0, Jug2) or\n",
    "                Water_Jug(Jug1, 0) or\n",
    "                Water_Jug(Max1, Jug2) or\n",
    "                Water_Jug(Jug1, Max2) or\n",
    "                Water_Jug(Jug1 + min(Jug2, (Max1-Jug1)), \n",
    "                Jug2 - min(Jug2, (Max1-Jug1))) or\n",
    "                Water_Jug(Jug1 - min(Jug1, (Max2-Jug2)), \n",
    "                Jug2 + min(Jug1, (Max2-Jug2)))) \n",
    "    else: \n",
    "        return False\n",
    "Max1 = int(input(\"Enter the max capacity in jug 1:\"))\n",
    "Max2 = int(input(\"Enter the max capacity in jug 2:\"))\n",
    "Final = int(input(\"Enter the final :\"))\n",
    "print(\"Path is as Follow:\") \n",
    "Water_Jug(0, 0) "
   ]
  },
  {
   "cell_type": "code",
   "execution_count": 9,
   "id": "c6951bff",
   "metadata": {},
   "outputs": [
    {
     "name": "stdout",
     "output_type": "stream",
     "text": [
      "Enter jug 1 capacity: 3\n",
      "Enter jug 2 capacity: 5\n",
      "Enter goal capacity: 2\n",
      "0 5\n",
      "3 2\n",
      "0 2\n"
     ]
    }
   ],
   "source": [
    "n=int(input(\"Enter jug 1 capacity: \"))\n",
    "m=int(input(\"Enter jug 2 capacity: \"))\n",
    "goal=int(input(\"Enter goal capacity: \"))\n",
    "if n%2==0 and m%2==0 and goal%2!=0:\n",
    "    print(\"Case not possible\")    \n",
    "if goal>max([n,m]):\n",
    "    print(\"Limit Exceeded\")\n",
    "else: \n",
    "    jug1=0\n",
    "    jug2=0\n",
    "    while jug1!=goal and jug2!=goal:\n",
    "        if jug2==0:\n",
    "            jug2=m\n",
    "            print(jug1,jug2)\n",
    "        jug1+=jug2\n",
    "        if jug1>n:\n",
    "            jug2=jug1-n\n",
    "            jug1=n\n",
    "            print(jug1,jug2)\n",
    "        else:\n",
    "            jug2=0\n",
    "            print(jug1,jug2)\n",
    "        if jug1>=n:\n",
    "            if jug1!=goal:\n",
    "                jug1=0\n",
    "            else:\n",
    "                jug2=0\n",
    "            print(jug1,jug2)"
   ]
  },
  {
   "cell_type": "code",
   "execution_count": 1,
   "id": "51e9291f",
   "metadata": {},
   "outputs": [
    {
     "name": "stdout",
     "output_type": "stream",
     "text": [
      "Enter capacity jug 1: 3\n",
      "Enter capacity jug 2: 5\n",
      "Enter goal capacity: 2\n",
      "(0, 5)\n",
      "(3, 2)\n",
      "(0, 2)\n"
     ]
    }
   ],
   "source": [
    "def dec():\n",
    "    global tree\n",
    "    global parent\n",
    "    tree={(0,0):[]}\n",
    "    parent=(0,0)\n",
    "def add(jug1,jug2,k):\n",
    "    global parent\n",
    "    if k==0:\n",
    "        tree[parent].append((jug1,jug2))\n",
    "        tree[(jug1,jug2)]=[]\n",
    "        parent=(jug1,jug2)\n",
    "    else:\n",
    "        tree[parent].append((jug2,jug1))\n",
    "        tree[(jug2,jug1)]=[]\n",
    "        parent=(jug2,jug1)\n",
    "def jug(jug1,jug2,goal,n,m,k):\n",
    "    while jug1!=goal and jug2!=goal:\n",
    "        if jug2==0:\n",
    "            jug2=m\n",
    "            add(jug1,jug2,k)\n",
    "        jug1+=jug2\n",
    "        if jug1>n:\n",
    "            jug2=jug1-n\n",
    "            jug1=n\n",
    "            add(jug1,jug2,k)\n",
    "        else:\n",
    "            jug2=0\n",
    "            add(jug1,jug2,k)\n",
    "        if jug1>=n:\n",
    "            if jug1!=goal:\n",
    "                jug1=0\n",
    "            else:\n",
    "                jug2=0\n",
    "            add(jug1,jug2,k)\n",
    "def bfs(node,goal):\n",
    "    frontier=[]\n",
    "    explored=[]\n",
    "    global l\n",
    "    l=[]\n",
    "    global p\n",
    "    p={}\n",
    "    frontier.append(node)\n",
    "    while frontier:\n",
    "        node=frontier.pop(0)\n",
    "        explored.append(node)\n",
    "        if node==(0,goal) or node==(goal,0):\n",
    "            while node!=(0,0):\n",
    "                l.append(node)\n",
    "                node=p[node]\n",
    "            return\n",
    "        for j in tree[node]:\n",
    "            if j not in frontier and j not in explored:\n",
    "                    frontier.append(j)\n",
    "                    p[j]=node\n",
    "def main():\n",
    "    dec()\n",
    "    c1=int(input(\"Enter capacity jug 1: \"))\n",
    "    c2=int(input(\"Enter capacity jug 2: \"))\n",
    "    goal=int(input(\"Enter goal capacity: \"))\n",
    "    if c1%2==0 and c2%2==0 and goal%2!=0:\n",
    "        print(\"Case not possible!\")    \n",
    "    elif goal>max([c1,c2]):\n",
    "        print(\"Limit Reached\")\n",
    "    else: \n",
    "        jug1=0\n",
    "        jug2=0\n",
    "        jug(jug1,jug2,goal,c1,c2,0)\n",
    "        global parent\n",
    "        parent=(0,0)\n",
    "        jug(jug2,jug1,goal,c2,c1,1)\n",
    "        bfs((0,0),goal)\n",
    "        [print(x) for x in reversed(l)]\n",
    "main()"
   ]
  },
  {
   "cell_type": "code",
   "execution_count": null,
   "id": "ae9ebadc",
   "metadata": {},
   "outputs": [],
   "source": []
  }
 ],
 "metadata": {
  "kernelspec": {
   "display_name": "Python 3 (ipykernel)",
   "language": "python",
   "name": "python3"
  },
  "language_info": {
   "codemirror_mode": {
    "name": "ipython",
    "version": 3
   },
   "file_extension": ".py",
   "mimetype": "text/x-python",
   "name": "python",
   "nbconvert_exporter": "python",
   "pygments_lexer": "ipython3",
   "version": "3.9.12"
  }
 },
 "nbformat": 4,
 "nbformat_minor": 5
}
