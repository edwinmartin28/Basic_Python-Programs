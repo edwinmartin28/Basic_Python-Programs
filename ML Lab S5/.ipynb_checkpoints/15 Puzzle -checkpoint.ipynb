{
 "cells": [
  {
   "cell_type": "code",
   "execution_count": 1,
   "id": "930e3292",
   "metadata": {},
   "outputs": [
    {
     "name": "stdout",
     "output_type": "stream",
     "text": [
      "Enter the size of puzzle: 4\n",
      "Enter the Elements: 2 3 4 6 7 8 5 9 10 0 1 15 14 12 13 11\n",
      "Shape of the puzzle:  16 ( 4 * 4 )\n",
      "No. of Inversion:  21\n",
      "Solvable\n"
     ]
    }
   ],
   "source": [
    "n=int(input(\"Enter the size of puzzle: \"))\n",
    "inv=0\n",
    "num=0\n",
    "row=0\n",
    "print(\"Enter the Elements:\", end = \" \")\n",
    "arr=list(map(int, input().split()))\n",
    "for i in range(n):\n",
    "    if arr[i-1]==0:\n",
    "        row=n-i+1\n",
    "for i in range(0, len(arr), 1):\n",
    "    for j in range(i+1, len(arr), 1):\n",
    "        if (arr[i]>arr[j] and arr[i]!=0 and arr[j]!=0):\n",
    "            inv+=1\n",
    "print(\"Shape of the puzzle: \", n*n, \"(\", n, \"*\", n, \")\")\n",
    "print(\"No. of Inversion: \",inv)\n",
    "if((n%2==1 and inv%2==0) or (n%2==0 and inv%2==1 and row%2==0) or (n%2==0 and inv%2==0 and row%2==1)):\n",
    "    print(\"Solvable\")\n",
    "else:\n",
    "    print(\"Not Solvable\")"
   ]
  },
  {
   "cell_type": "code",
   "execution_count": 2,
   "id": "c9f30e96",
   "metadata": {},
   "outputs": [
    {
     "name": "stdout",
     "output_type": "stream",
     "text": [
      "Enter the size of puzzle: 4\n",
      "Enter the Elements: 3 9 1 15 14 11 4 6 13 0 10 12 2 7 8 5\n",
      "Shape of the puzzle:  16 ( 4 * 4 )\n",
      "No. of Inversion:  56\n",
      "Not Solvable\n"
     ]
    }
   ],
   "source": [
    "n=int(input(\"Enter the size of puzzle: \"))\n",
    "inv=0\n",
    "num=0\n",
    "row=0\n",
    "print(\"Enter the Elements:\", end = \" \")\n",
    "arr=list(map(int, input().split()))\n",
    "for i in range(n):\n",
    "    if arr[i-1]==0:\n",
    "        row=n-i+1\n",
    "for i in range(0, len(arr), 1):\n",
    "    for j in range(i+1, len(arr), 1):\n",
    "        if (arr[i]>arr[j] and arr[i]!=0 and arr[j]!=0):\n",
    "            inv+=1\n",
    "print(\"Shape of the puzzle: \", n*n, \"(\", n, \"*\", n, \")\")\n",
    "print(\"No. of Inversion: \",inv)\n",
    "if((n%2==1 and inv%2==0) or (n%2==0 and inv%2==1 and row%2==0) or (n%2==0 and inv%2==0 and row%2==1)):\n",
    "    print(\"Solvable\")\n",
    "else:\n",
    "    print(\"Not Solvable\")"
   ]
  },
  {
   "cell_type": "code",
   "execution_count": 13,
   "id": "aaaf669d",
   "metadata": {},
   "outputs": [
    {
     "name": "stdout",
     "output_type": "stream",
     "text": [
      "Enter the size of puzzle: 4\n",
      "Enter the Elements: 12 1 10 2 7 11 4 14 5 0 9 15 8 13 6 3\n",
      "Shape of the puzzle:  16 ( 4 * 4 )\n",
      "No. of Inversion:  49\n",
      "The puzzle can be solved\n"
     ]
    }
   ],
   "source": [
    "n=int(input(\"Enter the size of puzzle: \"))\n",
    "inv=0\n",
    "num=0\n",
    "row=0\n",
    "print(\"Enter the Elements:\", end = \" \")\n",
    "arr=list(map(int, input().split()))\n",
    "for i in range(n):\n",
    "    if arr[i-1]==0:\n",
    "        row=n-i+1\n",
    "for i in range(0, len(arr), 1):\n",
    "    for j in range(i+1, len(arr), 1):\n",
    "        if (arr[i]>arr[j] and arr[i]!=0 and arr[j]!=0):\n",
    "            inv+=1\n",
    "print(\"Shape of the puzzle: \", n*n, \"(\", n, \"*\", n, \")\")\n",
    "print(\"No. of Inversion: \",inv)\n",
    "if((n%2==1 and inv%2==0) or (n%2==0 and inv%2==1 and row%2==0) or (n%2==0 and inv%2==0 and row%2==1)):\n",
    "    print(\"The puzzle can be solved\")\n",
    "else:\n",
    "    print(\"The puzzle can't  be solved\")"
   ]
  }
 ],
 "metadata": {
  "kernelspec": {
   "display_name": "Python 3 (ipykernel)",
   "language": "python",
   "name": "python3"
  },
  "language_info": {
   "codemirror_mode": {
    "name": "ipython",
    "version": 3
   },
   "file_extension": ".py",
   "mimetype": "text/x-python",
   "name": "python",
   "nbconvert_exporter": "python",
   "pygments_lexer": "ipython3",
   "version": "3.9.12"
  }
 },
 "nbformat": 4,
 "nbformat_minor": 5
}
