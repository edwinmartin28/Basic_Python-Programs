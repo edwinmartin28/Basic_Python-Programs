{
 "cells": [
  {
   "cell_type": "code",
   "execution_count": 1,
   "id": "99a7b167",
   "metadata": {},
   "outputs": [],
   "source": [
    "import pandas as pd\n",
    "import numpy as np\n",
    "from sklearn.feature_extraction.text import CountVectorizer\n",
    "from sklearn.model_selection import train_test_split\n",
    "from sklearn.naive_bayes import BernoulliNB"
   ]
  },
  {
   "cell_type": "code",
   "execution_count": 2,
   "id": "a2cd6145",
   "metadata": {},
   "outputs": [
    {
     "name": "stdout",
     "output_type": "stream",
     "text": [
      "                              COMMENT_ID         AUTHOR                 DATE  \\\n",
      "46   z13uzhdomzvbffvwa04cgplq2zewfz2hm2k   Kirsty Brown  2014-01-20T16:41:27   \n",
      "268  z12dcrdpiky1w3oia04chrvgxpmuzjv4gcw      Tedi Foto  2014-11-08T09:33:30   \n",
      "107  z13jsrtahyyqv53jc04cdr4bcwfwg3lauek  kenny clayton  2014-11-05T06:34:19   \n",
      "208  z13rdtkxmnfsdptlc22qwryhlsrfslcht04    Adele Lupei  2014-11-07T19:47:06   \n",
      "236    z12eex1wzu2ky35en22wfpswwxjqynsus   John Schmidt  2014-11-08T02:58:48   \n",
      "\n",
      "                                               CONTENT  CLASS  \n",
      "46   Plz subscribe to my channel and I will subscri...      1  \n",
      "268                             What my gangnam style﻿      0  \n",
      "107                                      #2012bitches﻿      0  \n",
      "208  Is this the video that started the whole \"got ...      0  \n",
      "236  why are they 5million comments when there is o...      0  \n"
     ]
    }
   ],
   "source": [
    "data = pd.read_csv(\"Youtube01-Psy.csv\")\n",
    "print(data.sample(5))"
   ]
  },
  {
   "cell_type": "code",
   "execution_count": 3,
   "id": "eacf2b30",
   "metadata": {},
   "outputs": [
    {
     "name": "stdout",
     "output_type": "stream",
     "text": [
      "                                               CONTENT  CLASS\n",
      "217               Follow me on Instagram. _chris_cz  ﻿      1\n",
      "40   if you like raw talent, raw lyrics, straight r...      1\n",
      "299  PLEASE SUBSCRIBE ME!!!!!!!!!!!!!!!!!!!!!!!!!!!...      1\n",
      "221  On 0:02 u can see the camera man on his glasse...      0\n",
      "241  With the korean girl more slut and bitch : Hyu...      0\n"
     ]
    }
   ],
   "source": [
    "data = data[[\"CONTENT\", \"CLASS\"]]\n",
    "print(data.sample(5))"
   ]
  },
  {
   "cell_type": "code",
   "execution_count": 4,
   "id": "8ae73cd3",
   "metadata": {},
   "outputs": [
    {
     "name": "stdout",
     "output_type": "stream",
     "text": [
      "                                               CONTENT         CLASS\n",
      "113  how can there be 2.124.821.694 views, when im ...      Not Spam\n",
      "197                               subscribe to me :) ﻿  Spam Comment\n",
      "281  2 billion views wow not even baby by justin be...      Not Spam\n",
      "30                           2 billion....Coming soon﻿      Not Spam\n",
      "109            5 milions comentars and 2 bilion views﻿      Not Spam\n"
     ]
    }
   ],
   "source": [
    "data[\"CLASS\"] = data[\"CLASS\"].map({0: \"Not Spam\",\n",
    "                                   1: \"Spam Comment\"})\n",
    "print(data.sample(5))"
   ]
  },
  {
   "cell_type": "code",
   "execution_count": 5,
   "id": "7a0223f0",
   "metadata": {},
   "outputs": [],
   "source": [
    "X = np.array(data[\"CONTENT\"])\n",
    "y = np.array(data[\"CLASS\"])"
   ]
  },
  {
   "cell_type": "code",
   "execution_count": 6,
   "id": "6eafa029",
   "metadata": {},
   "outputs": [],
   "source": [
    "cv = CountVectorizer()\n",
    "X = cv.fit_transform(X)"
   ]
  },
  {
   "cell_type": "code",
   "execution_count": 7,
   "id": "d5713cd7",
   "metadata": {},
   "outputs": [],
   "source": [
    "X_train, X_test, y_train, y_test = train_test_split(X, y, test_size=0.2, random_state=42)"
   ]
  },
  {
   "cell_type": "code",
   "execution_count": 8,
   "id": "6913c4ff",
   "metadata": {},
   "outputs": [
    {
     "name": "stdout",
     "output_type": "stream",
     "text": [
      "0.9552238805970149\n"
     ]
    }
   ],
   "source": [
    "model = BernoulliNB()\n",
    "model.fit(X_train, y_train)\n",
    "print(model.score(X_test, y_test))"
   ]
  },
  {
   "cell_type": "code",
   "execution_count": 9,
   "id": "c057bb40",
   "metadata": {},
   "outputs": [
    {
     "name": "stdout",
     "output_type": "stream",
     "text": [
      "['Spam Comment']\n"
     ]
    }
   ],
   "source": [
    "sample = \"Check this out: https://programmer.com/\" \n",
    "data = cv.transform([sample]).toarray()\n",
    "print(model.predict(data))"
   ]
  },
  {
   "cell_type": "code",
   "execution_count": 10,
   "id": "c4cdbc05",
   "metadata": {},
   "outputs": [
    {
     "name": "stdout",
     "output_type": "stream",
     "text": [
      "['Not Spam']\n"
     ]
    }
   ],
   "source": [
    "sample = \"Lack of information!\" \n",
    "data = cv.transform([sample]).toarray()\n",
    "print(model.predict(data)) "
   ]
  }
 ],
 "metadata": {
  "kernelspec": {
   "display_name": "Python 3 (ipykernel)",
   "language": "python",
   "name": "python3"
  },
  "language_info": {
   "codemirror_mode": {
    "name": "ipython",
    "version": 3
   },
   "file_extension": ".py",
   "mimetype": "text/x-python",
   "name": "python",
   "nbconvert_exporter": "python",
   "pygments_lexer": "ipython3",
   "version": "3.9.12"
  }
 },
 "nbformat": 4,
 "nbformat_minor": 5
}
