{
 "cells": [
  {
   "cell_type": "code",
   "execution_count": 1,
   "id": "1cd61c79",
   "metadata": {},
   "outputs": [
    {
     "name": "stdout",
     "output_type": "stream",
     "text": [
      "Enter the number of elements in first list:5\n",
      "Enter the elements to list 1\n",
      "Element 1 : 2\n",
      "Element 2 : 1\n",
      "Element 3 : 3\n",
      "Element 4 : 2\n",
      "Element 5 : 5\n",
      "list 1: [2, 1, 3, 2, 5]\n",
      "Enter the number of elements in second list:5\n",
      "Enter the elements to list 2\n",
      "Element 1 : 4\n",
      "Element 2 : 2\n",
      "Element 3 : 2\n",
      "Element 4 : 3\n",
      "Element 5 : 3\n",
      "list 2: [4, 2, 2, 3, 3]\n",
      "\n",
      "Union is :  [2, 1, 3, 5, 4]\n",
      "Intersection is :  [2, 3]\n"
     ]
    }
   ],
   "source": [
    "# Python program to find the union and intersection of two lists.\n",
    "a=list()\n",
    "b=list()\n",
    "c=list()\n",
    "d=list()\n",
    "n = int(input(\"Enter the number of elements in first list:\"))\n",
    "print(\"Enter the elements to list 1\")\n",
    "for i in range(1,n+1):\n",
    "    x = int(input(f\"Element {i} : \"))\n",
    "    a.append(x)\n",
    "print(\"list 1:\",a)\n",
    "n = int(input(\"Enter the number of elements in second list:\"))\n",
    "print(\"Enter the elements to list 2\")\n",
    "for i in range(1,n+1):\n",
    "    x = int(input(f\"Element {i} : \"))\n",
    "    b.append(x)\n",
    "print(\"list 2:\",b)\n",
    "for x in a :\n",
    "    if(x in b and x not in c):\n",
    "        c.append(x)     \n",
    "for i in a :\n",
    "    if(i not in d):\n",
    "        d.append(i)  \n",
    "for x in b :\n",
    "    if(x not in d):\n",
    "        d.append(x)\n",
    "print(\"\\nUnion is : \",d)\n",
    "print(\"Intersection is : \",c)"
   ]
  },
  {
   "cell_type": "code",
   "execution_count": 2,
   "id": "1b9e6ac6",
   "metadata": {
    "scrolled": true
   },
   "outputs": [
    {
     "name": "stdout",
     "output_type": "stream",
     "text": [
      "Enter a string : hello i am hello\n",
      "Frequency of hello is : 2\n",
      "Frequency of i is : 1\n",
      "Frequency of am is : 1\n"
     ]
    }
   ],
   "source": [
    "#Python program to count the occurrences of each word in a given sentence.\n",
    "str=input(\"Enter a string : \")\n",
    "str = str.split()        \n",
    "str2 = []\n",
    "for i in str:            \n",
    "    if i not in str2:\n",
    "        str2.append(i)\n",
    "for i in range(0, len(str2)):\n",
    "        print('Frequency of', str2[i], 'is :', str.count(str2[i])) "
   ]
  },
  {
   "cell_type": "code",
   "execution_count": 9,
   "id": "9dae7be2",
   "metadata": {},
   "outputs": [
    {
     "name": "stdout",
     "output_type": "stream",
     "text": [
      "Enter no of rows in matrix 1   : 2\n",
      "Enter no of columns in matrix 1: 3\n",
      "Enter no of rows in matrix 2   : 3\n",
      "Enter no of columns in matrix 2: 2\n",
      "Enter elements to matrix1: \n",
      "1\n",
      "2\n",
      "3\n",
      "4\n",
      "5\n",
      "6\n",
      "Enter elements to matrix2: \n",
      "10\n",
      "11\n",
      "20\n",
      "21\n",
      "30\n",
      "31\n",
      "Matrix1:\n",
      "1 2 3 \n",
      "4 5 6 \n",
      "Matrix2:\n",
      "10 11 \n",
      "20 21 \n",
      "30 31 \n",
      "Product Matrix:\n",
      "140 146 \n",
      "320 335 \n"
     ]
    }
   ],
   "source": [
    "# Write a Python program to multiply two matrices.\n",
    "matrix1=[]\n",
    "matrix2=[] \n",
    "matrix3=[]\n",
    "R1=int(input(\"Enter no of rows in matrix 1   : \"))\n",
    "C1=int(input(\"Enter no of columns in matrix 1: \"))\n",
    "R2=int(input(\"Enter no of rows in matrix 2   : \"))\n",
    "C2=int(input(\"Enter no of columns in matrix 2: \"))\n",
    "if C1==R2:\n",
    "    print(\"Enter elements to matrix1: \")\n",
    "    for i in range(R1):\n",
    "        temp=list()\n",
    "        for j in range(C1):\n",
    "            temp.append(int(input()))\n",
    "        matrix1.append(temp)  \n",
    "    print(\"Enter elements to matrix2: \") \n",
    "    for i in range(R2):\n",
    "        temp=list()\n",
    "        for j in range(C2):\n",
    "            temp.append(int(input()))\n",
    "        matrix2.append(temp)  \n",
    "    for i in range(R1):\n",
    "        temp=list()\n",
    "        for j in range(C2):\n",
    "            temp.append(0)\n",
    "        matrix3.append(temp)\n",
    "    print(\"Matrix1:\")\n",
    "    for i in range(R1):\n",
    "        for j in range(C1):\n",
    "            print(matrix1[i][j], end = \" \")\n",
    "        print()\n",
    "    print(\"Matrix2:\")\n",
    "    for i in range(R2):\n",
    "        for j in range(C2):\n",
    "            print(matrix2[i][j], end = \" \")\n",
    "        print()\n",
    "    for i in range(R1):\n",
    "        for j in range(C2):\n",
    "            for k in range(C1):\n",
    "                matrix3[i][j] += matrix1[i][k] * matrix2[k][j]\n",
    "    print(\"Product Matrix:\")\n",
    "    for i in range(R1):\n",
    "        for j in range(C2):\n",
    "            print(matrix3[i][j], end = \" \")\n",
    "        print()\n",
    "else:\n",
    "    print(\"Multiplication is not possible!\")"
   ]
  },
  {
   "cell_type": "code",
   "execution_count": 31,
   "id": "99292f86",
   "metadata": {},
   "outputs": [
    {
     "name": "stdout",
     "output_type": "stream",
     "text": [
      "Enter a string : Hello my name is Williams\n",
      "Enter value for k : 3\n",
      "Words with length greater than  3  are ['Hello', 'name', 'Williams']\n"
     ]
    }
   ],
   "source": [
    "#Python program to print words which are greater than a given length 'k'.\n",
    "str1=input(\"Enter a string : \")\n",
    "k=int(input(\"Enter value for k : \"))\n",
    "string=[]\n",
    "text=str1.split()\n",
    "for x in text:\n",
    "    if len(x) > k:\n",
    "        string.append(x)\n",
    "print(\"Words with length greater than \",k,\" are\",end=\" \")\n",
    "print(string)"
   ]
  },
  {
   "cell_type": "code",
   "execution_count": 5,
   "id": "6eae6caa",
   "metadata": {},
   "outputs": [
    {
     "name": "stdout",
     "output_type": "stream",
     "text": [
      "Most repeated words are:  ['hello']\n",
      "Frequency :  5\n"
     ]
    }
   ],
   "source": [
    "#Python program to print the most frequent words in a text file.\n",
    "frequent_word = []\n",
    "frequency = 0 \n",
    "words = []\n",
    "chkd=[]\n",
    "file = open(\"sample.txt\",\"r\")\n",
    "for line in file:\n",
    "    line_word = line.lower().replace(',','').replace('.','').split()\n",
    "    for w in line_word: \n",
    "        words.append(w)\n",
    "for i in range( len(words)):\n",
    "    if words[i] in chkd :\n",
    "        continue\n",
    "    chkd.append(words[i])\n",
    "    count=words.count(words[i])\n",
    "    if(count > frequency):\n",
    "        frequent_word.clear()\n",
    "        frequency = count\n",
    "        frequent_word.append(words[i])\n",
    "    elif(count == frequency):\n",
    "        frequent_word.append(words[i])\n",
    "        \n",
    "print(\"Most repeated words are: \",frequent_word )\n",
    "print(\"Frequency : \",frequency)\n",
    "file.close()\n"
   ]
  }
 ],
 "metadata": {
  "kernelspec": {
   "display_name": "Python 3 (ipykernel)",
   "language": "python",
   "name": "python3"
  },
  "language_info": {
   "codemirror_mode": {
    "name": "ipython",
    "version": 3
   },
   "file_extension": ".py",
   "mimetype": "text/x-python",
   "name": "python",
   "nbconvert_exporter": "python",
   "pygments_lexer": "ipython3",
   "version": "3.9.12"
  },
  "vscode": {
   "interpreter": {
    "hash": "fb4569285eef3a3450cb62085a5b1e0da4bce0af555edc33dcf29baf3acc1368"
   }
  }
 },
 "nbformat": 4,
 "nbformat_minor": 5
}
