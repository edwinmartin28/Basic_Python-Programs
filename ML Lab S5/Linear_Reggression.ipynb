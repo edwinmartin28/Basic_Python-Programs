{
 "cells": [
  {
   "cell_type": "code",
   "execution_count": 1,
   "id": "15d5c57c",
   "metadata": {},
   "outputs": [],
   "source": [
    "import numpy as np\n",
    "import pandas as pd\n",
    "import matplotlib.pyplot as plt"
   ]
  },
  {
   "cell_type": "code",
   "execution_count": 2,
   "id": "1dbcb907",
   "metadata": {},
   "outputs": [
    {
     "data": {
      "text/html": [
       "<div>\n",
       "<style scoped>\n",
       "    .dataframe tbody tr th:only-of-type {\n",
       "        vertical-align: middle;\n",
       "    }\n",
       "\n",
       "    .dataframe tbody tr th {\n",
       "        vertical-align: top;\n",
       "    }\n",
       "\n",
       "    .dataframe thead th {\n",
       "        text-align: right;\n",
       "    }\n",
       "</style>\n",
       "<table border=\"1\" class=\"dataframe\">\n",
       "  <thead>\n",
       "    <tr style=\"text-align: right;\">\n",
       "      <th></th>\n",
       "      <th>customer name</th>\n",
       "      <th>customer e-mail</th>\n",
       "      <th>country</th>\n",
       "      <th>gender</th>\n",
       "      <th>age</th>\n",
       "      <th>annual Salary</th>\n",
       "      <th>credit card debt</th>\n",
       "      <th>net worth</th>\n",
       "      <th>car purchase amount</th>\n",
       "    </tr>\n",
       "  </thead>\n",
       "  <tbody>\n",
       "    <tr>\n",
       "      <th>0</th>\n",
       "      <td>Martina Avila</td>\n",
       "      <td>cubilia.Curae.Phasellus@quisaccumsanconvallis.edu</td>\n",
       "      <td>Bulgaria</td>\n",
       "      <td>0</td>\n",
       "      <td>41.851720</td>\n",
       "      <td>62812.09301</td>\n",
       "      <td>11609.380910</td>\n",
       "      <td>238961.2505</td>\n",
       "      <td>35321.45877</td>\n",
       "    </tr>\n",
       "    <tr>\n",
       "      <th>1</th>\n",
       "      <td>Harlan Barnes</td>\n",
       "      <td>eu.dolor@diam.co.uk</td>\n",
       "      <td>Belize</td>\n",
       "      <td>0</td>\n",
       "      <td>40.870623</td>\n",
       "      <td>66646.89292</td>\n",
       "      <td>9572.957136</td>\n",
       "      <td>530973.9078</td>\n",
       "      <td>45115.52566</td>\n",
       "    </tr>\n",
       "    <tr>\n",
       "      <th>2</th>\n",
       "      <td>Naomi Rodriquez</td>\n",
       "      <td>vulputate.mauris.sagittis@ametconsectetueradip...</td>\n",
       "      <td>Algeria</td>\n",
       "      <td>1</td>\n",
       "      <td>43.152897</td>\n",
       "      <td>53798.55112</td>\n",
       "      <td>11160.355060</td>\n",
       "      <td>638467.1773</td>\n",
       "      <td>42925.70921</td>\n",
       "    </tr>\n",
       "    <tr>\n",
       "      <th>3</th>\n",
       "      <td>Jade Cunningham</td>\n",
       "      <td>malesuada@dignissim.com</td>\n",
       "      <td>Cook Islands</td>\n",
       "      <td>1</td>\n",
       "      <td>58.271369</td>\n",
       "      <td>79370.03798</td>\n",
       "      <td>14426.164850</td>\n",
       "      <td>548599.0524</td>\n",
       "      <td>67422.36313</td>\n",
       "    </tr>\n",
       "    <tr>\n",
       "      <th>4</th>\n",
       "      <td>Cedric Leach</td>\n",
       "      <td>felis.ullamcorper.viverra@egetmollislectus.net</td>\n",
       "      <td>Brazil</td>\n",
       "      <td>1</td>\n",
       "      <td>57.313749</td>\n",
       "      <td>59729.15130</td>\n",
       "      <td>5358.712177</td>\n",
       "      <td>560304.0671</td>\n",
       "      <td>55915.46248</td>\n",
       "    </tr>\n",
       "  </tbody>\n",
       "</table>\n",
       "</div>"
      ],
      "text/plain": [
       "     customer name                                    customer e-mail  \\\n",
       "0    Martina Avila  cubilia.Curae.Phasellus@quisaccumsanconvallis.edu   \n",
       "1    Harlan Barnes                                eu.dolor@diam.co.uk   \n",
       "2  Naomi Rodriquez  vulputate.mauris.sagittis@ametconsectetueradip...   \n",
       "3  Jade Cunningham                            malesuada@dignissim.com   \n",
       "4     Cedric Leach     felis.ullamcorper.viverra@egetmollislectus.net   \n",
       "\n",
       "        country  gender        age  annual Salary  credit card debt  \\\n",
       "0      Bulgaria       0  41.851720    62812.09301      11609.380910   \n",
       "1        Belize       0  40.870623    66646.89292       9572.957136   \n",
       "2       Algeria       1  43.152897    53798.55112      11160.355060   \n",
       "3  Cook Islands       1  58.271369    79370.03798      14426.164850   \n",
       "4        Brazil       1  57.313749    59729.15130       5358.712177   \n",
       "\n",
       "     net worth  car purchase amount  \n",
       "0  238961.2505          35321.45877  \n",
       "1  530973.9078          45115.52566  \n",
       "2  638467.1773          42925.70921  \n",
       "3  548599.0524          67422.36313  \n",
       "4  560304.0671          55915.46248  "
      ]
     },
     "execution_count": 2,
     "metadata": {},
     "output_type": "execute_result"
    }
   ],
   "source": [
    "dataset = pd.read_csv('car_purchasing.csv',encoding ='latin1')\n",
    "dataset.head(5)"
   ]
  },
  {
   "cell_type": "code",
   "execution_count": 3,
   "id": "d578dce9",
   "metadata": {},
   "outputs": [
    {
     "data": {
      "text/plain": [
       "(500, 9)"
      ]
     },
     "execution_count": 3,
     "metadata": {},
     "output_type": "execute_result"
    }
   ],
   "source": [
    "dataset.shape"
   ]
  },
  {
   "cell_type": "code",
   "execution_count": 4,
   "id": "c53fadfc",
   "metadata": {},
   "outputs": [
    {
     "data": {
      "text/plain": [
       "4500"
      ]
     },
     "execution_count": 4,
     "metadata": {},
     "output_type": "execute_result"
    }
   ],
   "source": [
    "dataset.size"
   ]
  },
  {
   "cell_type": "code",
   "execution_count": 5,
   "id": "b5404808",
   "metadata": {},
   "outputs": [
    {
     "data": {
      "text/plain": [
       "<bound method DataFrame.info of        customer name                                    customer e-mail  \\\n",
       "0      Martina Avila  cubilia.Curae.Phasellus@quisaccumsanconvallis.edu   \n",
       "1      Harlan Barnes                                eu.dolor@diam.co.uk   \n",
       "2    Naomi Rodriquez  vulputate.mauris.sagittis@ametconsectetueradip...   \n",
       "3    Jade Cunningham                            malesuada@dignissim.com   \n",
       "4       Cedric Leach     felis.ullamcorper.viverra@egetmollislectus.net   \n",
       "..               ...                                                ...   \n",
       "495           Walter                                ligula@Cumsociis.ca   \n",
       "496            Vanna                 Cum.sociis.natoque@Sedmolestie.edu   \n",
       "497            Pearl                      penatibus.et@massanonante.com   \n",
       "498             Nell                  Quisque.varius@arcuVivamussit.net   \n",
       "499            Marla                          Camaron.marla@hotmail.com   \n",
       "\n",
       "          country  gender        age  annual Salary  credit card debt  \\\n",
       "0        Bulgaria       0  41.851720    62812.09301      11609.380910   \n",
       "1          Belize       0  40.870623    66646.89292       9572.957136   \n",
       "2         Algeria       1  43.152897    53798.55112      11160.355060   \n",
       "3    Cook Islands       1  58.271369    79370.03798      14426.164850   \n",
       "4          Brazil       1  57.313749    59729.15130       5358.712177   \n",
       "..            ...     ...        ...            ...               ...   \n",
       "495         Nepal       0  41.462515    71942.40291       6995.902524   \n",
       "496      Zimbabwe       1  37.642000    56039.49793      12301.456790   \n",
       "497   Philippines       1  53.943497    68888.77805      10611.606860   \n",
       "498      Botswana       1  59.160509    49811.99062      14013.034510   \n",
       "499        marlal       1  46.731152    61370.67766       9391.341628   \n",
       "\n",
       "       net worth  car purchase amount  \n",
       "0    238961.2505          35321.45877  \n",
       "1    530973.9078          45115.52566  \n",
       "2    638467.1773          42925.70921  \n",
       "3    548599.0524          67422.36313  \n",
       "4    560304.0671          55915.46248  \n",
       "..           ...                  ...  \n",
       "495  541670.1016          48901.44342  \n",
       "496  360419.0988          31491.41457  \n",
       "497  764531.3203          64147.28888  \n",
       "498  337826.6382          45442.15353  \n",
       "499  462946.4924          45107.22566  \n",
       "\n",
       "[500 rows x 9 columns]>"
      ]
     },
     "execution_count": 5,
     "metadata": {},
     "output_type": "execute_result"
    }
   ],
   "source": [
    "dataset.info"
   ]
  },
  {
   "cell_type": "code",
   "execution_count": 6,
   "id": "c1d6394e",
   "metadata": {},
   "outputs": [
    {
     "data": {
      "text/plain": [
       "customer name          0\n",
       "customer e-mail        0\n",
       "country                0\n",
       "gender                 0\n",
       "age                    0\n",
       "annual Salary          0\n",
       "credit card debt       0\n",
       "net worth              0\n",
       "car purchase amount    0\n",
       "dtype: int64"
      ]
     },
     "execution_count": 6,
     "metadata": {},
     "output_type": "execute_result"
    }
   ],
   "source": [
    "dataset.isnull().sum()"
   ]
  },
  {
   "cell_type": "code",
   "execution_count": 7,
   "id": "2553d4b9",
   "metadata": {},
   "outputs": [
    {
     "data": {
      "image/png": "[encoded data removed]",
      "text/plain": [
       "<Figure size 432x288 with 2 Axes>"
      ]
     },
     "metadata": {
      "needs_background": "light"
     },
     "output_type": "display_data"
    }
   ],
   "source": [
    "import seaborn as sb\n",
    "dataplot = sb.heatmap(dataset.corr(), cmap=\"YlGnBu\", annot=True)\n",
    "#plt.show()"
   ]
  },
  {
   "cell_type": "code",
   "execution_count": 8,
   "id": "a3846069",
   "metadata": {},
   "outputs": [
    {
     "data": {
      "text/plain": [
       "Index(['customer name', 'customer e-mail', 'country', 'gender', 'age',\n",
       "       'annual Salary', 'credit card debt', 'net worth',\n",
       "       'car purchase amount'],\n",
       "      dtype='object')"
      ]
     },
     "execution_count": 8,
     "metadata": {},
     "output_type": "execute_result"
    }
   ],
   "source": [
    "dataset.columns"
   ]
  },
  {
   "cell_type": "code",
   "execution_count": 9,
   "id": "bfac30d3",
   "metadata": {},
   "outputs": [],
   "source": [
    "dataset = dataset.drop(['customer name', 'customer e-mail', 'country', 'gender', 'credit card debt'], axis=1)"
   ]
  },
  {
   "cell_type": "code",
   "execution_count": 10,
   "id": "64677604",
   "metadata": {},
   "outputs": [
    {
     "data": {
      "text/html": [
       "<div>\n",
       "<style scoped>\n",
       "    .dataframe tbody tr th:only-of-type {\n",
       "        vertical-align: middle;\n",
       "    }\n",
       "\n",
       "    .dataframe tbody tr th {\n",
       "        vertical-align: top;\n",
       "    }\n",
       "\n",
       "    .dataframe thead th {\n",
       "        text-align: right;\n",
       "    }\n",
       "</style>\n",
       "<table border=\"1\" class=\"dataframe\">\n",
       "  <thead>\n",
       "    <tr style=\"text-align: right;\">\n",
       "      <th></th>\n",
       "      <th>age</th>\n",
       "      <th>annual Salary</th>\n",
       "      <th>net worth</th>\n",
       "      <th>car purchase amount</th>\n",
       "    </tr>\n",
       "  </thead>\n",
       "  <tbody>\n",
       "    <tr>\n",
       "      <th>0</th>\n",
       "      <td>41.851720</td>\n",
       "      <td>62812.09301</td>\n",
       "      <td>238961.2505</td>\n",
       "      <td>35321.45877</td>\n",
       "    </tr>\n",
       "    <tr>\n",
       "      <th>1</th>\n",
       "      <td>40.870623</td>\n",
       "      <td>66646.89292</td>\n",
       "      <td>530973.9078</td>\n",
       "      <td>45115.52566</td>\n",
       "    </tr>\n",
       "    <tr>\n",
       "      <th>2</th>\n",
       "      <td>43.152897</td>\n",
       "      <td>53798.55112</td>\n",
       "      <td>638467.1773</td>\n",
       "      <td>42925.70921</td>\n",
       "    </tr>\n",
       "    <tr>\n",
       "      <th>3</th>\n",
       "      <td>58.271369</td>\n",
       "      <td>79370.03798</td>\n",
       "      <td>548599.0524</td>\n",
       "      <td>67422.36313</td>\n",
       "    </tr>\n",
       "    <tr>\n",
       "      <th>4</th>\n",
       "      <td>57.313749</td>\n",
       "      <td>59729.15130</td>\n",
       "      <td>560304.0671</td>\n",
       "      <td>55915.46248</td>\n",
       "    </tr>\n",
       "  </tbody>\n",
       "</table>\n",
       "</div>"
      ],
      "text/plain": [
       "         age  annual Salary    net worth  car purchase amount\n",
       "0  41.851720    62812.09301  238961.2505          35321.45877\n",
       "1  40.870623    66646.89292  530973.9078          45115.52566\n",
       "2  43.152897    53798.55112  638467.1773          42925.70921\n",
       "3  58.271369    79370.03798  548599.0524          67422.36313\n",
       "4  57.313749    59729.15130  560304.0671          55915.46248"
      ]
     },
     "execution_count": 10,
     "metadata": {},
     "output_type": "execute_result"
    }
   ],
   "source": [
    "dataset.head()"
   ]
  },
  {
   "cell_type": "code",
   "execution_count": 11,
   "id": "e4f27314",
   "metadata": {},
   "outputs": [
    {
     "data": {
      "text/html": [
       "<div>\n",
       "<style scoped>\n",
       "    .dataframe tbody tr th:only-of-type {\n",
       "        vertical-align: middle;\n",
       "    }\n",
       "\n",
       "    .dataframe tbody tr th {\n",
       "        vertical-align: top;\n",
       "    }\n",
       "\n",
       "    .dataframe thead th {\n",
       "        text-align: right;\n",
       "    }\n",
       "</style>\n",
       "<table border=\"1\" class=\"dataframe\">\n",
       "  <thead>\n",
       "    <tr style=\"text-align: right;\">\n",
       "      <th></th>\n",
       "      <th>age</th>\n",
       "      <th>annual Salary</th>\n",
       "      <th>net worth</th>\n",
       "      <th>car purchase amount</th>\n",
       "    </tr>\n",
       "  </thead>\n",
       "  <tbody>\n",
       "    <tr>\n",
       "      <th>count</th>\n",
       "      <td>500.000000</td>\n",
       "      <td>500.000000</td>\n",
       "      <td>500.000000</td>\n",
       "      <td>500.000000</td>\n",
       "    </tr>\n",
       "    <tr>\n",
       "      <th>mean</th>\n",
       "      <td>46.241674</td>\n",
       "      <td>62127.239608</td>\n",
       "      <td>431475.713625</td>\n",
       "      <td>44209.799218</td>\n",
       "    </tr>\n",
       "    <tr>\n",
       "      <th>std</th>\n",
       "      <td>7.978862</td>\n",
       "      <td>11703.378228</td>\n",
       "      <td>173536.756340</td>\n",
       "      <td>10773.178744</td>\n",
       "    </tr>\n",
       "    <tr>\n",
       "      <th>min</th>\n",
       "      <td>20.000000</td>\n",
       "      <td>20000.000000</td>\n",
       "      <td>20000.000000</td>\n",
       "      <td>9000.000000</td>\n",
       "    </tr>\n",
       "    <tr>\n",
       "      <th>25%</th>\n",
       "      <td>40.949969</td>\n",
       "      <td>54391.977195</td>\n",
       "      <td>299824.195900</td>\n",
       "      <td>37629.896040</td>\n",
       "    </tr>\n",
       "    <tr>\n",
       "      <th>50%</th>\n",
       "      <td>46.049901</td>\n",
       "      <td>62915.497035</td>\n",
       "      <td>426750.120650</td>\n",
       "      <td>43997.783390</td>\n",
       "    </tr>\n",
       "    <tr>\n",
       "      <th>75%</th>\n",
       "      <td>51.612263</td>\n",
       "      <td>70117.862005</td>\n",
       "      <td>557324.478725</td>\n",
       "      <td>51254.709517</td>\n",
       "    </tr>\n",
       "    <tr>\n",
       "      <th>max</th>\n",
       "      <td>70.000000</td>\n",
       "      <td>100000.000000</td>\n",
       "      <td>1000000.000000</td>\n",
       "      <td>80000.000000</td>\n",
       "    </tr>\n",
       "  </tbody>\n",
       "</table>\n",
       "</div>"
      ],
      "text/plain": [
       "              age  annual Salary       net worth  car purchase amount\n",
       "count  500.000000     500.000000      500.000000           500.000000\n",
       "mean    46.241674   62127.239608   431475.713625         44209.799218\n",
       "std      7.978862   11703.378228   173536.756340         10773.178744\n",
       "min     20.000000   20000.000000    20000.000000          9000.000000\n",
       "25%     40.949969   54391.977195   299824.195900         37629.896040\n",
       "50%     46.049901   62915.497035   426750.120650         43997.783390\n",
       "75%     51.612263   70117.862005   557324.478725         51254.709517\n",
       "max     70.000000  100000.000000  1000000.000000         80000.000000"
      ]
     },
     "execution_count": 11,
     "metadata": {},
     "output_type": "execute_result"
    }
   ],
   "source": [
    "dataset.describe()"
   ]
  },
  {
   "cell_type": "code",
   "execution_count": 12,
   "id": "28489ba6",
   "metadata": {},
   "outputs": [],
   "source": [
    "X = dataset.iloc[:, :-1].values\n",
    "y = dataset.iloc[:, -1].values"
   ]
  },
  {
   "cell_type": "code",
   "execution_count": 13,
   "id": "49d707e7",
   "metadata": {},
   "outputs": [
    {
     "name": "stdout",
     "output_type": "stream",
     "text": [
      "[[4.18517198e+01 6.28120930e+04 2.38961250e+05]\n",
      " [4.08706234e+01 6.66468929e+04 5.30973908e+05]\n",
      " [4.31528975e+01 5.37985511e+04 6.38467177e+05]\n",
      " ...\n",
      " [5.39434972e+01 6.88887780e+04 7.64531320e+05]\n",
      " [5.91605086e+01 4.98119906e+04 3.37826638e+05]\n",
      " [4.67311525e+01 6.13706777e+04 4.62946492e+05]]\n"
     ]
    }
   ],
   "source": [
    "print(X)"
   ]
  },
  {
   "cell_type": "code",
   "execution_count": 14,
   "id": "1fda0a08",
   "metadata": {},
   "outputs": [
    {
     "name": "stdout",
     "output_type": "stream",
     "text": [
      "[35321.45877 45115.52566 42925.70921 67422.36313 55915.46248 56611.99784\n",
      " 28925.70549 47434.98265 48013.6141  38189.50601 59045.51309 42288.81046\n",
      " 28700.0334  49258.87571 49510.03356 53017.26723 41814.72067 43901.71244\n",
      " 44633.99241 54827.52403 51130.95379 43402.31525 47240.86004 46635.49432\n",
      " 45078.40193 44387.58412 37161.55393 49091.97185 58350.31809 43994.35972\n",
      " 17584.56963 44650.36073 66363.89316 53489.46214 39810.34817 51612.14311\n",
      " 38978.67458 10092.22509 35928.52404 54823.19221 45805.67186 41567.47033\n",
      " 28031.20985 27815.73813 68678.4352  68925.09447 34215.7615  37843.46619\n",
      " 37883.24231 48734.35708 27187.23914 63738.39065 48266.75516 46381.13111\n",
      " 31978.9799  48100.29052 47380.91224 41425.00116 38147.81018 32737.80177\n",
      " 37348.13737 47483.85316 49730.53339 40093.61981 42297.5062  52954.93121\n",
      " 48104.11184 43680.91327 52707.96816 49392.8897  30841.00154 49373.37555\n",
      " 41903.65171 45058.8969  52991.52667 50958.08115 41357.17897 44434.71917\n",
      " 38502.42392 41221.24918 38399.46139 41456.68097 30394.82494 42384.05128\n",
      " 39002.0771  19553.2739  45167.32542 36019.9556  50937.93844 12895.71468\n",
      " 38955.21919 51221.04249 25971.95673 60670.33672 54075.12064 40004.87142\n",
      " 61593.52058 39503.38829 52474.71839 42187.6828  57441.44414 22681.71667\n",
      " 33640.73697 31540.77868 60461.24268 45738.3343  34803.82395 34642.6024\n",
      " 27586.71854 54973.02495 49142.51174 58840.53964 57306.32866 51941.6756\n",
      " 30240.60975 67120.89878 42408.02625 41451.71843 42592.88647 34521.17618\n",
      " 42213.69644 41913.53713 59416.18101 51402.61506 54755.42038 47143.44008\n",
      " 64391.68906 37252.55194 52665.36511 44001.20706 51551.67997 38243.66481\n",
      " 39766.64804 40077.57289 33131.52734 48622.66097 47693.23482 39410.4616\n",
      " 33428.40183 32700.27871 62864.43011 29425.83001 44418.60955 36645.5609\n",
      " 53655.53859 45977.12502 38504.39444 47935.9394  60222.22672 38930.55234\n",
      " 27810.21814 47604.34591 42356.6895  31300.54347 42369.64247 31837.22537\n",
      " 26499.31418 38172.83602 39433.40631 37714.31659 57125.41541 46453.34819\n",
      " 43855.06077 55592.70383 42484.02283 40879.19107 20653.21409 35438.80549\n",
      " 36112.79346 38182.30465 41026.02421 27889.95197 43724.4896  57430.76903\n",
      " 41104.07108 49050.85378 41265.52929 64545.16339 29052.09521 30719.8156\n",
      " 38763.11306 39331.20127 32608.45468 58045.56257 54387.27727 36638.20688\n",
      " 39522.13129 42978.34626 60865.76396 46380.44732 56579.90338 42774.35579\n",
      " 37879.65385 45208.42539 56229.4127  50455.11935 49721.31082 31696.99679\n",
      " 49220.0218  46188.83514 36086.93161 43264.04965 40660.38317 51683.60859\n",
      " 44525.02085 48518.90163 45805.30588 54850.38742 32478.44758 42209.28948\n",
      " 55125.93237 47984.42062 43405.89086 44577.44829 37744.54285 47805.25605\n",
      " 44846.68557 46643.26581 56563.98675 41673.44617 61118.46947 37303.56701\n",
      " 46892.26617 56457.74038 45509.69732 27625.44144 46389.50237 29002.05665\n",
      " 51355.7106  42011.19965 52654.40455 44432.71747 46054.60253 58235.41454\n",
      " 42990.29255 50702.18103 47009.57741 49399.97041 42997.16761 44434.98419\n",
      " 46325.50959 46846.7305  56499.10202 42773.75905 52313.98392 34139.6373\n",
      " 60763.24731 66158.69494 31215.6421  46135.27233 56973.18105 24184.07443\n",
      " 49079.61942 37093.92033 43401.56612 29092.1311  48349.16457 33261.00057\n",
      " 41327.16554 49336.11628 51405.55229 31249.98803 43598.96993 48300.02057\n",
      " 54013.47595 38674.66038 37076.82508 37947.85125 41320.07256 66888.93694\n",
      " 12536.93842 39549.13039 52709.08196 53502.97742 52116.90791 38705.65839\n",
      " 48025.02542 59483.91183 35911.64559 41034.28343 51730.17434 53021.86074\n",
      " 32828.03477 29417.64694 57461.51158 50441.62427 41575.34739 46412.47781\n",
      " 47610.11718 70878.29664 55543.38497 53848.7555  39904.81613 44736.41097\n",
      " 46937.17422 28440.81268 38148.00163 42747.53925 29670.83337 63038.20422\n",
      " 63248.76188 42321.56548 44463.30502 67092.23276 22091.11839 40022.17406\n",
      " 56071.61377 49442.12107 42497.72862 37084.77621 51866.48719 35716.31133\n",
      " 39892.93343 35781.16156 42866.21274 80000.      60526.97788 59758.73247\n",
      " 39606.24598 58641.71051 52983.89411 50666.88173 59625.02618 22630.25982\n",
      " 41137.89459 53496.48183 36543.93642 43503.97349 31146.71078 31526.04931\n",
      " 31083.70271 45366.35963 25252.93221 39888.59789 52240.72866 39911.6116\n",
      " 45857.75365 30826.10903 39422.79389 34678.83226 23517.91983 28733.68779\n",
      " 59096.26978 50188.86612 35659.12237 46398.35204 32291.18978 49079.29461\n",
      " 49348.88394 41427.59797 24221.99937 44424.07681 60390.06616 42793.9932\n",
      " 46935.72774 58667.06865 38042.80065 39270.57909 54606.18769 39083.94268\n",
      " 47984.12043 46082.80993 30964.07804 35726.95299 49065.1634  48955.85816\n",
      " 37183.10293 46710.52519 52889.56257 29754.66271 60960.83428 39975.43302\n",
      " 38545.80328 56764.44728 63079.84329 55700.83389 36367.18452 52477.83479\n",
      " 50296.67496 37259.84386 47715.96049 29540.87013 60567.18837 36125.48846\n",
      " 57303.87131 51922.07691 35848.82935 42704.3221  55174.98946 26599.90843\n",
      " 53993.44322 47970.76767 43641.65727 41679.7929  63140.05082 30757.65726\n",
      " 65592.22012 37871.7082  42919.5196  22599.45863 70598.96768 43242.58224\n",
      " 38138.57511 30419.8     63868.94051 45112.94547 44361.87507 19525.29827\n",
      " 49991.60697 61731.71426 41769.38288 46402.53583 37376.63439 33766.6413\n",
      " 30667.60927 52056.41478 30736.5798  39439.45349 38174.87433 40589.8625\n",
      " 62028.71192 48465.27211 40095.0498  49568.47685 31408.62631 47719.47741\n",
      " 35784.42411 42905.53815 48516.84335 45593.6849  32061.6467  32208.37522\n",
      " 35475.00344 29519.56184 55420.56668 42139.64528 50539.90169 34922.42846\n",
      " 43898.2733  39135.03023 41147.46679 24134.59205 42705.11311 38901.60925\n",
      " 28645.39425 52150.41786 66648.25077 42909.27129 49248.10595 27303.17104\n",
      " 47869.82593 59984.16361 45271.46081  9000.      46012.10616 32967.20191\n",
      " 48785.15839 45824.5656  40102.11417 35457.1486  29556.7932  38243.06228\n",
      " 44430.63323 51046.42226 52570.36517 61404.22578 28463.64326 27586.20078\n",
      " 47979.48549 28164.86039 69669.47402 48052.65091 37364.23474 44500.81936\n",
      " 35139.24793 55167.37361 48383.69071 35823.55471 36517.70996 53110.88052\n",
      " 53049.44567 21471.11367 45015.67953 55377.87697 56510.13294 47443.74443\n",
      " 41489.64123 32553.53423 41984.62412 59538.40327 41352.47071 52785.16947\n",
      " 60117.67886 47760.66427 64188.26862 48901.44342 31491.41457 64147.28888\n",
      " 45442.15353 45107.22566]\n"
     ]
    }
   ],
   "source": [
    "print(y)"
   ]
  },
  {
   "cell_type": "code",
   "execution_count": 15,
   "id": "e0d21ab7",
   "metadata": {},
   "outputs": [],
   "source": [
    "from sklearn.model_selection import train_test_split\n",
    "X_train, X_test, y_train, y_test = train_test_split(X, y, test_size = 0.2, random_state = 0)"
   ]
  },
  {
   "cell_type": "code",
   "execution_count": 16,
   "id": "a6f6d143",
   "metadata": {},
   "outputs": [
    {
     "name": "stdout",
     "output_type": "stream",
     "text": [
      "[[4.95971652e+01 4.24335462e+04 3.86057421e+05]\n",
      " [5.06722640e+01 7.19214504e+04 1.69714266e+05]\n",
      " [5.62157522e+01 5.73938287e+04 4.11831037e+05]\n",
      " ...\n",
      " [3.46819613e+01 8.41711672e+04 2.44310574e+05]\n",
      " [5.11681390e+01 5.74783792e+04 1.58979710e+05]\n",
      " [4.01423478e+01 7.11482025e+04 4.16817467e+05]]\n"
     ]
    }
   ],
   "source": [
    "print(X_train)"
   ]
  },
  {
   "cell_type": "code",
   "execution_count": 17,
   "id": "82b2b12a",
   "metadata": {},
   "outputs": [],
   "source": [
    "from sklearn.preprocessing import StandardScaler\n",
    "sc = StandardScaler()\n",
    "X_train = sc.fit_transform(X_train)\n",
    "X_test = sc.transform(X_test)"
   ]
  },
  {
   "cell_type": "code",
   "execution_count": 18,
   "id": "3067b5a6",
   "metadata": {},
   "outputs": [
    {
     "data": {
      "text/plain": [
       "LinearRegression()"
      ]
     },
     "execution_count": 18,
     "metadata": {},
     "output_type": "execute_result"
    }
   ],
   "source": [
    "from sklearn.linear_model import LinearRegression\n",
    "regressor = LinearRegression()\n",
    "regressor.fit(X_train,y_train)"
   ]
  },
  {
   "cell_type": "code",
   "execution_count": 19,
   "id": "b2b8457a",
   "metadata": {},
   "outputs": [],
   "source": [
    "y_train_pred = regressor.predict(X_train)"
   ]
  },
  {
   "cell_type": "code",
   "execution_count": 20,
   "id": "5f124a72",
   "metadata": {},
   "outputs": [],
   "source": [
    "y_test_pred = regressor.predict(X_test)"
   ]
  },
  {
   "cell_type": "code",
   "execution_count": 21,
   "id": "36aec2a0",
   "metadata": {},
   "outputs": [
    {
     "name": "stdout",
     "output_type": "stream",
     "text": [
      "[34642.87632257 45859.40426747 49372.56660949 35138.38023846\n",
      " 28924.09915189 37376.62149534 51940.67865202 47009.93801564\n",
      " 63036.33592152 31838.23361368 52709.23208512 47434.8898204\n",
      " 39412.67651072 48011.57855459 51049.49572023 35473.35140598\n",
      " 55701.10867285 57460.24486433 55126.23785723 60866.92158695\n",
      " 32061.14182433 48734.73927812 33130.29404314 48956.23423333\n",
      " 33763.627412   44436.92379231 32737.89956947 44361.47814024\n",
      " 47969.65368644 46401.39367343 47443.24668811 42010.64302666\n",
      " 42747.81499554 48100.28814091 44735.10532651 41351.98235351\n",
      " 40103.51419819 45823.92363825  9001.58462916 39521.36834645\n",
      " 56229.65541572 48265.72265934 52993.78889726 37161.96260592\n",
      " 41986.7966749  55913.07971086 39607.72802226 45368.22336197\n",
      " 34137.8111821  56613.20982308 29425.1426931  36126.8972701\n",
      " 48620.28670019 47761.93124338 59416.13830301 47241.65664988\n",
      " 52707.10948422 51131.43067642 60567.01456085 49510.78001287\n",
      " 35914.03195526 27626.20574887 42296.9838577  29539.7586242\n",
      " 44431.64595818 41458.92724395 43241.96258702 44464.10808832\n",
      " 45108.45844672 48052.82741339 32968.86874826 57125.13556123\n",
      " 36518.08684055 49064.18071808 31489.83096642 45805.72670118\n",
      " 58642.47226164 63738.16601509 56067.14788483 45272.22707707\n",
      " 25251.9476136  42481.28515079 34802.26803891 21472.12804612\n",
      " 40095.71232006 35660.04003442 42907.80001512 39132.75552763\n",
      " 52984.49907377 12895.05252372 39889.38985847 47869.33713496\n",
      " 60670.35622383 29670.15172296 35456.84081903 42500.00263164\n",
      " 30760.81045774 25973.20547728 44634.33083142 49219.30310459\n",
      " 45975.21432271 39433.5576635  27809.21844953 53112.31544665\n",
      " 35440.77838795 29093.62011288 52656.18634916 40092.96989667\n",
      " 48103.50006485 37082.62174248 37094.76778069 62865.39889606\n",
      " 22682.11030582 29518.12341794 42926.20991941 49991.48235384\n",
      " 43904.28359821 38505.3880404  46133.91468368 48303.23596176\n",
      " 17584.4158928  30241.74208917 66163.20229721 31542.98242974\n",
      " 45113.67629835 51868.22769061 41264.80117264 60762.83071828\n",
      " 42405.53139886 36110.45123525 52057.0662401  42214.9883703\n",
      " 31250.83346386 57306.58128156 47985.31697205 42138.81441486\n",
      " 32829.31449817 47695.28387447 56584.39533274 49081.55716483\n",
      " 39331.31874748 64391.52724301 53022.06143995 49080.20717348\n",
      " 19525.04097357 41679.03219135 46936.23411767 46055.21048109\n",
      " 40076.41151577 53489.29098797 48382.09218561 43856.25836187\n",
      " 39810.49332693 68678.83926185 39504.07248397 19552.46302456\n",
      " 47482.04942422 46188.44698305 41319.88273571 56562.35067977\n",
      " 45060.38801066 51610.6634116  67092.56916796 43991.86181575\n",
      " 46084.50238823 43642.62010507 38900.16887487 46643.66443533\n",
      " 49093.43800154 22599.41433447 47716.15281881 26502.08461984\n",
      " 45593.49991964 46400.78907519 33425.68227044 43408.54810106\n",
      " 60460.8912246  24222.0973863  32291.81286318 44426.1398201\n",
      " 47806.37577847 51922.72259348 46379.6878798  37742.31760586\n",
      " 44524.30977767 42990.7457651  49336.67215354 43680.30444652\n",
      " 45077.61761159 44846.12667324 56457.84914641 44002.47621539\n",
      " 58839.80802598 20654.99358294 39437.10591283 63138.14567443\n",
      " 45804.07398943 52118.35365393 39270.02721419 41220.65681229\n",
      " 35778.08634409 79998.27170208 49257.85324775 46413.12523158\n",
      " 61732.03040785 64189.1443935  51356.48440987 46452.33073934\n",
      " 42383.60506696 64146.75252573 44500.3848235  49139.15447226\n",
      " 38929.65995909 42355.43350827 41813.41373682 34677.35564461\n",
      " 54974.41065841 60391.11982118 32701.56604763 49398.67557348\n",
      " 51405.57685191 40590.9454337  59758.19162477 48901.07517339\n",
      " 70597.19268605 31215.06301737 35851.99817165 54828.34642221\n",
      " 31146.51166485 38146.46497492 66890.2477881  46390.16281278\n",
      " 30669.27574249 67424.50240804 50296.56295943 47142.96538914\n",
      " 51732.08706472 41573.97166545 44433.85946575 54387.47896908\n",
      " 31410.31912669 35822.27730529 38706.92063535 46937.58858016\n",
      " 50540.14410869 32608.35920057 42909.60286237 38400.24863241\n",
      " 49440.00719115 41326.2814865  42289.77036207 39977.52075875\n",
      " 45168.29115749 37076.94319886 38977.48440813 53047.98603867\n",
      " 38146.9798107  41565.81440317 12538.29249913 27188.05579295\n",
      " 42210.44512375 37869.65701845 41767.57683342 30734.57264713\n",
      " 51402.2939394  46891.92137054 49729.80824736 52480.03752628\n",
      " 51552.53301909 42977.15458534 46635.84388625 27816.94319583\n",
      " 24133.63166334 35320.81448265 43264.79469003 52888.32188062\n",
      " 35784.45488208 52473.08100331 41430.1865289  22090.66322469\n",
      " 32555.27285078 29048.97324713 29757.64534029 48348.11497353\n",
      " 54073.6675027  61405.15064316 40003.67121147 42703.66268775\n",
      " 38183.13956347 49391.7844151  40020.22792399 37885.27044702\n",
      " 28735.52317706 56765.4466124  54849.48739326 41030.63498352\n",
      " 28999.34516191 60223.63205825 36644.36458322 52243.11567177\n",
      " 38761.9434918  38043.06029562 38242.63815261 44431.05402284\n",
      " 45442.34645274 43599.61289749 41135.86022627 51684.44500838\n",
      " 39003.01361767 41914.72148068 45015.12411289 55420.20184376\n",
      " 29557.93201268 46013.07673988 57302.14262097 51223.86280333\n",
      " 30395.90522772 37949.91461372 34518.77808419 54605.92035649\n",
      " 53848.92454167 41425.99623119 50664.69917308 33259.91068959\n",
      " 36366.93990047 66645.21059901 28030.8696076  45736.13707335\n",
      " 55173.66127706 27588.74471253 53501.30368842 28645.36783521\n",
      " 35929.41137873 26598.79734952 46381.27587145 62028.91383449\n",
      " 34921.29187012 52665.82549434 55544.55331403 58352.24600679\n",
      " 58045.10171077 60959.18168334 55593.52315214 47604.58888481\n",
      " 52311.71964203 40660.0665349  44649.57247562 66362.99340984\n",
      " 37251.49883682 36638.45100948 69669.15284101 27301.01287795\n",
      " 47609.31498375 49569.91945196 42920.26594217 48785.60210193\n",
      " 47935.50811962 50442.27022372 28465.04804996 64545.30667162\n",
      " 42186.67023466 39424.24070971 49247.51150544 32207.54849873\n",
      " 39911.39750337 31696.78871874 42776.53553356 52571.29301051\n",
      " 67119.76177298 63870.02448238 38674.92431316 41904.61336888\n",
      " 39892.06829602 44387.12569343 40876.84297264 30826.04535187\n",
      " 55377.14328516 41103.7417004  41490.57829755 54820.28169103\n",
      " 45207.58893567 42866.24521496 65594.36541375 50933.72759199\n",
      " 37365.70478331 30840.50344897 36018.44554615 39906.03773008\n",
      " 56497.99260169 59484.03287214 47988.42518346 38187.82126888\n",
      " 39083.59910015 50456.12271695 24182.9424611  22628.56226365\n",
      " 37880.74222874 41452.99200323 37843.73932236 43724.81647292]\n"
     ]
    }
   ],
   "source": [
    "print(y_train_pred)"
   ]
  },
  {
   "cell_type": "code",
   "execution_count": 22,
   "id": "7e77ee63",
   "metadata": {},
   "outputs": [
    {
     "name": "stdout",
     "output_type": "stream",
     "text": [
      "[38951.82832288 43401.65239233 29415.14719906 52151.3031262\n",
      " 38241.59309307 53014.78314055 60528.37942218 59538.46461385\n",
      " 37714.40782535 31300.13820015 46847.97629976 56973.67508674\n",
      " 53993.62538874 70879.61386975 27887.82388237 31528.32034042\n",
      " 47979.93666184 58668.5837861  42371.89356436 10091.84356577\n",
      " 48516.55944476 37181.77171326 46324.40630234 27589.71960568\n",
      " 68925.61702264 43897.65247665 43405.14064965 46714.14865747\n",
      " 61594.54288216 58235.09827763 48515.23542841 42591.93665293\n",
      " 54757.68439945 42774.47524557 63081.78172623 60117.4793095\n",
      " 35716.79029159 59983.7969015  42794.48460253 42998.37749589\n",
      " 59621.74396409 34215.8134885  30421.13548996 37304.43972474\n",
      " 41355.21414902 45115.0935161  44577.37094163 53497.86492083\n",
      " 38174.9329811  33637.73128959 35727.89723143 41027.83845646\n",
      " 50188.39997475 53657.98507039 39765.71802666 28699.71439207\n",
      " 43504.06210171 57430.7097655  45508.05223644 59095.16968016\n",
      " 38502.76285734 48025.20881032 42703.40484488 47720.21571002\n",
      " 42321.18692221 49721.82584529 59045.89645247 28165.92934573\n",
      " 39550.21226391 50956.92608532 44419.20482917 52952.72638748\n",
      " 23519.33468499 56510.84521562 49049.80947587 30963.55975189\n",
      " 54014.80405273 57442.14658256 52786.08636766 28440.07664199\n",
      " 63252.73092615 50705.97856703 55168.01485149 41674.66708918\n",
      " 31087.3411989  36545.94813012 48465.18766028 38170.91066938\n",
      " 49345.46893924 31979.62807395 61119.67752387 38140.05619828\n",
      " 37257.30888722 36086.21859251 30721.13227629 38547.11121336\n",
      " 47381.46027386 41148.94602627 37349.17773393 32478.39209734]\n"
     ]
    }
   ],
   "source": [
    "print(y_test_pred)"
   ]
  },
  {
   "cell_type": "code",
   "execution_count": 23,
   "id": "07cf0f7f",
   "metadata": {},
   "outputs": [],
   "source": [
    "from sklearn.metrics import mean_absolute_error,r2_score,mean_squared_error\n",
    "import math\n",
    "mae_test = mean_absolute_error(y_test_pred,y_test)\n",
    "mse_test=mean_squared_error(y_test_pred,y_test)\n",
    "rmse_test=math.sqrt(mse_test)\n",
    "\n",
    "y_train_pred = regressor.predict(X_train)\n",
    "mae_train = mean_absolute_error(y_train_pred,y_train)\n",
    "mse_train=mean_squared_error(y_train_pred,y_train)\n",
    "rmse_train=math.sqrt(mse_train)"
   ]
  },
  {
   "cell_type": "code",
   "execution_count": 24,
   "id": "2095bbf1",
   "metadata": {},
   "outputs": [
    {
     "name": "stdout",
     "output_type": "stream",
     "text": [
      "Mean Absolute Error of test set= 1.235949596104001\n",
      "Mean square Error of test set= 2.4969279416064376\n",
      "Root Mean square  Error of test set= 1.5801670612965066\n",
      "Mean Absolute Error of train data= 1.1650199345775853\n",
      "Mean square Error of train data= 2.1022691036057246\n",
      "Root Mean square  Error of train data= 1.4499203783676278\n",
      "R-Square of training set= 0.9999999816483821\n",
      "R-Square of testing set= 0.9999999792688712\n",
      "Adjusted R-Squared of training set= 0.9999999815373845\n",
      "Adjusted R-Squared of testing set= 0.9999999791434813\n"
     ]
    }
   ],
   "source": [
    "print('Mean Absolute Error of test set=',mae_test)\n",
    "print('Mean square Error of test set=',mse_test)\n",
    "print('Root Mean square  Error of test set=',rmse_test)\n",
    "\n",
    "print('Mean Absolute Error of train data=',mae_train)\n",
    "print('Mean square Error of train data=',mse_train)\n",
    "print('Root Mean square  Error of train data=',rmse_train)\n",
    "r2train=r2_score(y_train, y_train_pred)\n",
    "print('R-Square of training set=',r2train)\n",
    "r2test=r2_score(y_test, y_test_pred)\n",
    "print('R-Square of testing set=',r2test)\n",
    "print('Adjusted R-Squared of training set=',1-(1-r2train)*(len(y)-1)/(len(y)-X.shape[1]-1))\n",
    "print('Adjusted R-Squared of testing set=',1-(1-r2test)*(len(y)-1)/(len(y)-X.shape[1]-1))"
   ]
  },
  {
   "cell_type": "code",
   "execution_count": null,
   "id": "89410b07",
   "metadata": {},
   "outputs": [],
   "source": []
  }
 ],
 "metadata": {
  "kernelspec": {
   "display_name": "Python 3 (ipykernel)",
   "language": "python",
   "name": "python3"
  },
  "language_info": {
   "codemirror_mode": {
    "name": "ipython",
    "version": 3
   },
   "file_extension": ".py",
   "mimetype": "text/x-python",
   "name": "python",
   "nbconvert_exporter": "python",
   "pygments_lexer": "ipython3",
   "version": "3.9.12"
  }
 },
 "nbformat": 4,
 "nbformat_minor": 5
}
