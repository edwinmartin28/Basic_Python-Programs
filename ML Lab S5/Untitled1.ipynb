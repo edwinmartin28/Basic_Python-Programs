{
 "cells": [
  {
   "cell_type": "code",
   "execution_count": 1,
   "id": "f5b4adb6",
   "metadata": {},
   "outputs": [
    {
     "name": "stdout",
     "output_type": "stream",
     "text": [
      "0.8571428571428571\n"
     ]
    }
   ],
   "source": [
    "import pandas as pd\n",
    "from sklearn.model_selection import train_test_split\n",
    "from sklearn.feature_extraction.text import CountVectorizer\n",
    "from sklearn import svm\n",
    "\n",
    "spam = pd.read_csv(\"Youtube01-Psy.csv\")\n",
    "z = spam[\"CONTENT\"]\n",
    "y = spam[\"CLASS\"]\n",
    "z_train, z_test,y_train, y_test = train_test_split(z,y,test_size = 0.2)\n",
    "\n",
    "cv = CountVectorizer()\n",
    "features = cv.fit_transform(z_train)\n",
    "\n",
    "model = svm.SVC()\n",
    "model.fit(features,y_train)\n",
    "\n",
    "features_test = cv.transform(z_test)\n",
    "print(model.score(features_test,y_test))"
   ]
  }
 ],
 "metadata": {
  "kernelspec": {
   "display_name": "Python 3 (ipykernel)",
   "language": "python",
   "name": "python3"
  },
  "language_info": {
   "codemirror_mode": {
    "name": "ipython",
    "version": 3
   },
   "file_extension": ".py",
   "mimetype": "text/x-python",
   "name": "python",
   "nbconvert_exporter": "python",
   "pygments_lexer": "ipython3",
   "version": "3.9.12"
  }
 },
 "nbformat": 4,
 "nbformat_minor": 5
}
